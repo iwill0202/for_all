{
 "cells": [
  {
   "cell_type": "code",
   "execution_count": 8,
   "metadata": {
    "collapsed": false
   },
   "outputs": [],
   "source": [
    "# -*- coding: utf-8 -*-\n",
    "import string\n",
    "import requests\n",
    "from bs4 import BeautifulSoup\n",
    "\n",
    "yy = 2015\n",
    "MM = 6\n",
    "dd = 26\n",
    "\n",
    "def input(yy,MM,dd):\n",
    "    cookie = 'ASPSESSIONIDQACRTTQS=JCCJHCNDFDCFLBOEFCPFJCEH; AX-cookie-POOL_PORTAL=AGACBAKM'\n",
    "    data = {\n",
    "    'pFlag':'',\\\n",
    "    'yytemp':yy,\\\n",
    "    'mmtemp':MM,\\\n",
    "    'ddtemp':dd,\\\n",
    "    'chooseitemtemp':'ALL',\\\n",
    "    'goday':'',\\\n",
    "    'choose_yy':yy,\\\n",
    "    'choose_mm':MM,\\\n",
    "    'choose_dd':dd,\\\n",
    "    'datestart':'%d/%d/%d'%(yy,MM,dd),\\\n",
    "    'choose_item':'TX ' \n",
    "    }\n",
    "\n",
    "    #uml = \"http://fyjud.lawbank.com.tw/\"\n",
    "    headers = {'Cookie' : cookie}\n",
    "    res = requests.get('https://www.taifex.com.tw/chinese/3/7_8.asp',\\\n",
    "                       headers = headers,\\\n",
    "                       data = data)\n",
    "    res.encoding = 'utf-8'\n",
    "    soup = BeautifulSoup(res.text)\n",
    "    print 'ok'\n",
    "\n",
    "    #print soup.select('.section > tbody > tr')\n",
    "    print soup.select('#datestart')[0]['value']\n",
    "    table = soup.select('.table_f')[0]\n",
    "    print table.select('tr')[4].select('td')[4].text.split('(')[1].split(')')[0]\n",
    "    print table.select('tr')[4].select('td')[-2].text.split('(')[1].split(')')[0]"
   ]
  },
  {
   "cell_type": "code",
   "execution_count": 14,
   "metadata": {
    "collapsed": false
   },
   "outputs": [
    {
     "name": "stdout",
     "output_type": "stream",
     "text": [
      "ok\n",
      "2015/5/4\n",
      "50.2%\n",
      "49.2%\n",
      "ok\n",
      "2015/5/5\n",
      "46.9%\n",
      "49.6%\n",
      "ok\n",
      "2015/5/6\n",
      "47.2%\n",
      "48.6%\n",
      "ok\n",
      "2015/5/7\n",
      "40%\n",
      "49.1%\n",
      "ok\n",
      "2015/5/8\n",
      "37.5%\n",
      "49.4%\n",
      "ok\n",
      "2015/5/11\n",
      "36%\n",
      "47.3%\n",
      "ok\n",
      "2015/5/12\n",
      "33.8%\n",
      "51.5%\n",
      "ok\n",
      "2015/5/13\n",
      "34.9%\n",
      "52.4%\n",
      "ok\n",
      "2015/5/14\n",
      "31.1%\n",
      "48.9%\n",
      "ok\n",
      "2015/5/15\n",
      "33.5%\n",
      "49.1%\n",
      "ok\n",
      "2015/5/18\n",
      "20.1%\n",
      "45%\n",
      "ok\n",
      "2015/5/19\n",
      "27%\n",
      "39.4%\n",
      "ok\n",
      "2015/5/20\n",
      "40%\n",
      "53.4%\n",
      "ok\n",
      "2015/5/21\n",
      "35.6%\n",
      "50.2%\n",
      "ok\n",
      "2015/5/22\n",
      "36.5%\n",
      "47.8%\n"
     ]
    }
   ],
   "source": [
    "n=0\n",
    "for i in range(0,3):\n",
    "    for x in range(0,5):\n",
    "        input(2015,5,4+x+n)\n",
    "    n+=7"
   ]
  }
 ],
 "metadata": {
  "kernelspec": {
   "display_name": "Python 2",
   "language": "python",
   "name": "python2"
  },
  "language_info": {
   "codemirror_mode": {
    "name": "ipython",
    "version": 2
   },
   "file_extension": ".py",
   "mimetype": "text/x-python",
   "name": "python",
   "nbconvert_exporter": "python",
   "pygments_lexer": "ipython2",
   "version": "2.7.10"
  }
 },
 "nbformat": 4,
 "nbformat_minor": 0
}
