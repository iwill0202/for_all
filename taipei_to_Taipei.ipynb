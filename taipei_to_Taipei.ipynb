{
 "cells": [
  {
   "cell_type": "code",
   "execution_count": 22,
   "metadata": {
    "collapsed": false
   },
   "outputs": [
    {
     "name": "stdout",
     "output_type": "stream",
     "text": [
      "ok\n"
     ]
    }
   ],
   "source": [
    "import os\n",
    "import codecs\n",
    "place = u'臺北'\n",
    "location = 'project\\%s\\\\'%place\n",
    "all_files = os.path.abspath(location)\n",
    "for x in os.listdir(all_files):\n",
    "    if x[0]!=u'W':\n",
    "        #print '%s%s'%(location,x)\n",
    "        with codecs.open('%s%s'%(location,x),'r','utf-8')as f:\n",
    "            content = f.read()\n",
    "            #print 'ok'\n",
    "        name =  '_'.join(x.split('_')[1:])#.decode('utf-8')\n",
    "        with codecs.open(u'%s臺北_%s'%(location,name),'w','utf-8')as f:\n",
    "             f.write(content)\n",
    "print 'ok'\n",
    "        \n",
    "        \n"
   ]
  }
 ],
 "metadata": {
  "kernelspec": {
   "display_name": "Python 2",
   "language": "python",
   "name": "python2"
  },
  "language_info": {
   "codemirror_mode": {
    "name": "ipython",
    "version": 2
   },
   "file_extension": ".py",
   "mimetype": "text/x-python",
   "name": "python",
   "nbconvert_exporter": "python",
   "pygments_lexer": "ipython2",
   "version": "2.7.10"
  }
 },
 "nbformat": 4,
 "nbformat_minor": 0
}
