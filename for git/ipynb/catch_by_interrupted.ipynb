{
 "cells": [
  {
   "cell_type": "code",
   "execution_count": 26,
   "metadata": {
    "collapsed": false
   },
   "outputs": [
    {
     "name": "stdout",
     "output_type": "stream",
     "text": [
      "ok\n"
     ]
    }
   ],
   "source": [
    "# -*- coding: utf-8 -*-\n",
    "'''\n",
    "catch if interupted\n",
    "'''\n",
    "import string\n",
    "import requests\n",
    "from bs4 import BeautifulSoup\n",
    "\n",
    "#------------------------------\n",
    "#輸入你想要的號碼，也就是要抓得那個號碼\n",
    "start_from_no = 552\n",
    "times = start_from_no/20\n",
    "twenty_list = start_from_no%20\n",
    "\n",
    "#輸入第二層的cookie\n",
    "origin_cookie='ASP.NET_SessionId=xq3yfxucb122zjy2in5qunr0; y=p=ga6YQzTxtX4nbb%2fpDcqvILg2sSYKfSTHsTT6K2g%2bn2cpL5jR%2fdNhSIdktQsnj7Y8; lawbank=16d61bcec6ff49c9981f7d4b3ede3876-33; _ga=GA1.3.1224627297.1434421447; _gat=1; JubFrm-pagebox=%5EcourtFullName%3DPCDV%60%5Ekw%3D%E8%BB%8A%5Ejcatagory%3D2%5Eissimple%3D-1%5Ejt%3D%E6%90%8D%E5%AE%B3%E8%B3%A0%E5%84%9F; x=j=yUm4L9fKJqyv+bvUjQeEuHlX2Uk1M6ZY+srNvIy39vuzWoh6eGOtto71u8OudzDz0CrH2GdHmjzEw0HcygOQAKKol52OCpWqcN/hWtAXH5wtK7YHkY+mqVnBI8nlomnlQ5AZovZs+0FOApcFFCI81Twziync+0q9lbAbc/AAMfDVKeUWCo75SIj6ZL4pjW1D2c1/x2pbv8XvUxO8jfmyFdlmLU3cFLkmTCT92LgODLdHWBY9RNmpc0czOtRWt0ci3B8iN3oB4mKKPeVozMR8R1Ds7Ez/RKcatvJjV8NRR8ac1qZzHxOqTpzq3z2qUE6E'\n",
    "import string\n",
    "if origin_cookie.find('y=p=') != -1:\n",
    "    pos_yp = origin_cookie.split('y=p=')\n",
    "    origin_cookie = pos_yp[0]+string.join(pos_yp[1].split(';')[1:],';')\n",
    "#------------------------------\n",
    "\n",
    "#cookie = 'ASP.NET_SessionId=xq3yfxucb122zjy2in5qunr0; lawbank=e83dafaa80234b35af3f1337bf1f5f83-33; y=p=ga6YQzTxtX4nbb%2fpDcqvILg2sSYKfSTHsTT6K2g%2bn2cpL5jR%2fdNhSIdktQsnj7Y8; _ga=GA1.3.1224627297.1434421447; _gat=1; JubFrm-pagebox=%5EcourtFullName%3DPCDV%60%5Ekw%3D%E8%BB%8A%5Ejcatagory%3D2%5Eissimple%3D-1%5Ejt%3D%E6%90%8D%E5%AE%B3%E8%B3%A0%E5%84%9F; x=j=yUm4L9fKJqyv+bvUjQeEuHlX2Uk1M6ZY+srNvIy39vuzWoh6eGOtto71u8OudzDz0CrH2GdHmjzEw0HcygOQAKKol52OCpWqcN/hWtAXH5wtK7YHkY+mqVnBI8nlomnlQ5AZovZs+0FOApcFFCI81Twziync+0q9lbAbc/AAMfDVKeUWCo75SIj6ZL4pjW1D2c1/x2pbv8XvUxO8jfmyFdlmLU3cFLkmTCT92LgODLdHWBY9RNmpc0czOtRWt0ci3B8iN3oB4mKKPeVozMR8R1Ds7Ez/RKcatvJjV8NRR8ZGNMCvkJpjDvtCp/nqyhea'\n",
    "#catch y=p= whether exist\n",
    "\n",
    "data = {'__EVENTTARGET':'lnkbtnOhmy1', \\\n",
    "        '__EVENTARGUMENT':'', \\\n",
    "        '__VIEWSTATE':'', \\\n",
    "        '__VIEWSTATEGENERATOR':'', \\\n",
    "        '__EVENTVALIDATION':'', \\\n",
    "        'FDLink':''\n",
    "       }\n",
    "\n",
    "uml = \"http://fyjud.lawbank.com.tw/\"\n",
    "headers = {'Cookie' : origin_cookie}\n",
    "res = requests.get('http://fyjud.lawbank.com.tw/listcontent5.aspx',\\\n",
    "                   headers = headers)\n",
    "soup = BeautifulSoup(res.text)\n",
    "\n",
    "#catch total_pages and this_page\n",
    "this_page = soup.select('.page > tr > td')[0].text.replace(' ','')\n",
    "pos_start = this_page.find(u'共')\n",
    "pos_end = this_page.find(u'筆')\n",
    "total_pages = int(this_page[pos_start+1:pos_end])\n",
    "#print total_pages\n",
    "print 'now',this_page\n",
    "\n",
    "for i in range(0, times):\n",
    "        data['__VIEWSTATE'] = soup.select('#__VIEWSTATE')[0]['value']\n",
    "        data['__EVENTVALIDATION'] = soup.select('#__EVENTVALIDATION')[0]['value']\n",
    "        data['__VIEWSTATEGENERATOR'] = soup.select('#__VIEWSTATEGENERATOR')[0]['value']\n",
    "\n",
    "        res_post = requests.post('http://fyjud.lawbank.com.tw/listcontent5.aspx',\\\n",
    "                           headers = headers,\\\n",
    "                           data = data)\n",
    "        soup = BeautifulSoup(res_post.text)\n",
    "print 'after',soup.select('.page > tr > td')[0].text.replace(' ','')\n",
    "\n",
    "target_element = soup.select('.Table-List > tbody > tr')[twenty_list].select('td > a')[0]\n",
    "link = uml+target_element['href']\n",
    "\n",
    "cookie_yp = '; y=p=%s'%(target_element['onclick'].split('\\'')[1])\n",
    "cookie = origin_cookie+cookie_yp\n",
    "\n",
    "import requests\n",
    "from bs4 import BeautifulSoup\n",
    "\n",
    "filename_list={}\n",
    "fl=int(start_from_no)\n",
    "fin= fl\n",
    "Request_URL=str(link)\n",
    "\n",
    "#**********************************************************\n",
    "print 'start from %d'%fl\n",
    "print 'now start!!!!'\n",
    "\n",
    "#catch y=p= whether exist\n",
    "\n",
    "#if cookie.find('y=p=') != -1:\n",
    "#    pos_yp = cookie.split('y=p=')\n",
    "#    cookie = pos_yp[0]+string.join(pos_yp[1].split(';')[1:],';')\n",
    "\n",
    "uml = \"http://fyjud.lawbank.com.tw/\"\n",
    "headers = {'Cookie' : cookie}\n",
    "res = requests.get(Request_URL,\\\n",
    "                   headers = headers)\n",
    "soup = BeautifulSoup(res.text)\n",
    "\n",
    "#抓location ----- def = get_place return place\n",
    "#<eg台北>\n",
    "def get_place(Beautiful):\n",
    "    for h4 in soup.select('h4'):\n",
    "        allname = str(h4).decode('utf-8')\n",
    "        pos = allname.find('地方法院'.decode('utf-8'))\n",
    "        place = allname[pos-2:pos].encode('utf-8')\n",
    "    return place\n",
    "place = get_place(soup)\n",
    "\n",
    "#catch total_pages  \n",
    "#def = get_total_pages return total_pages\n",
    "def get_total_pages(Beautiful):\n",
    "    state = soup.select('.page > tr > td')[0].text.replace(' ','')\n",
    "    pos_start = state.find(u'共')\n",
    "    pos_end = state.find(u'筆')\n",
    "    total_pages = int(state[pos_start+1:pos_end])\n",
    "    return total_pages\n",
    "total_pages = get_total_pages(soup)\n",
    "\n",
    "import string\n",
    "save= soup.select('#FDLink')[0]['value'].encode('utf-8').split(',')\n",
    "save_name = string.join(save[2:5],'_')\n",
    "filename_list[fl]=(place+'_'+save_name+'.txt').decode('utf-8')\n",
    "fl+=1\n",
    "\n",
    "\n",
    "fid=open('project\\%s' %(filename_list[fl-1]),'w')#save-------------------------diraction\n",
    "pre_len = len(soup.select('pre'))\n",
    "for i in range(0,pre_len):\n",
    "    content = soup.select('pre')[i].text.encode('utf-8')\n",
    "    fid.write(content+'\\n')\n",
    "fid.close()\n",
    "\n",
    "#try to catch the rest of files\n",
    "import time\n",
    "data = {'__EVENTTARGET':'lnkbtnOhmy1', \\\n",
    "        '__EVENTARGUMENT':'', \\\n",
    "        '__VIEWSTATE':'', \\\n",
    "        '__VIEWSTATEGENERATOR':'', \\\n",
    "        '__EVENTVALIDATION':'', \\\n",
    "        'FDLink':''\n",
    "       }\n",
    "try:\n",
    "    for i in range(fl, total_pages+1):\n",
    "        data['__VIEWSTATE'] = soup.select('#__VIEWSTATE')[0]['value']\n",
    "        data['__EVENTVALIDATION'] = soup.select('#__EVENTVALIDATION')[0]['value']\n",
    "        data['__VIEWSTATEGENERATOR'] = soup.select('#__VIEWSTATEGENERATOR')[0]['value']\n",
    "\n",
    "        res_post = requests.post(Request_URL,\\\n",
    "                           headers = headers,\\\n",
    "                           data = data)\n",
    "        soup = BeautifulSoup(res_post.text)\n",
    "        save= soup.select('#FDLink')[0]['value'].encode('utf-8').split(',')\n",
    "        save_name = string.join(save[2:5],'_')\n",
    "        save_dir = save[1]\n",
    "        filename_list[fl]=(place+'_'+save_name+'.txt').decode('utf-8')\n",
    "        fl+=1\n",
    "        \n",
    "        fid=open('project\\%s'%(filename_list[fl-1]),'w')#---------------------------diraction\n",
    "\n",
    "        pre_len = len(soup.select('pre'))\n",
    "        for pl in range(0,pre_len):\n",
    "            content = soup.select('pre')[pl].text.encode('utf-8')\n",
    "            fid.write(content+'\\n')\n",
    "        fid.close()\n",
    "        if i%100==0:\n",
    "            print i,'-ok'\n",
    "        time.sleep(1)\n",
    "finally:\n",
    "    total = len(filename_list)\n",
    "\t\n",
    "    save_filename_list = ('project\\%s.txt'%place).decode('utf-8')#-------------------diraction\n",
    "    fn=open(save_filename_list,'a')\n",
    "    \n",
    "    for i in range(fin,total+fin):\n",
    "        fn.write(str(i)+'-'+filename_list[i].encode('utf-8')+'\\n')\n",
    "    fn.close()\n",
    "    print 'you have started from No. %d , and caught %d files'%(fin, total)\n",
    "    print 'so total files should be %d , right?'%(fin+total-1)"
   ]
  },
  {
   "cell_type": "code",
   "execution_count": null,
   "metadata": {
    "collapsed": false
   },
   "outputs": [],
   "source": []
  },
  {
   "cell_type": "code",
   "execution_count": 30,
   "metadata": {
    "collapsed": false
   },
   "outputs": [
    {
     "name": "stdout",
     "output_type": "stream",
     "text": [
      "now 共7724筆第3/387頁\n"
     ]
    }
   ],
   "source": [
    "#catch total_pages and this_page\n",
    "this_page = soup.select('.page > tr > td')[0].text.replace(' ','')\n",
    "pos_start = this_page.find(u'共')\n",
    "pos_end = this_page.find(u'筆')\n",
    "total_pages = int(this_page[pos_start+1:pos_end])\n",
    "#print total_pages\n",
    "print 'now',this_page"
   ]
  },
  {
   "cell_type": "code",
   "execution_count": 28,
   "metadata": {
    "collapsed": false
   },
   "outputs": [
    {
     "name": "stdout",
     "output_type": "stream",
     "text": [
      "共7724筆第3/387頁\n"
     ]
    }
   ],
   "source": [
    "for i in range(0, times):\n",
    "        data['__VIEWSTATE'] = soup.select('#__VIEWSTATE')[0]['value']\n",
    "        data['__EVENTVALIDATION'] = soup.select('#__EVENTVALIDATION')[0]['value']\n",
    "        data['__VIEWSTATEGENERATOR'] = soup.select('#__VIEWSTATEGENERATOR')[0]['value']\n",
    "\n",
    "        res_post = requests.post('http://fyjud.lawbank.com.tw/listcontent5.aspx',\\\n",
    "                           headers = headers,\\\n",
    "                           data = data)\n",
    "        soup = BeautifulSoup(res_post.text)\n",
    "print soup.select('.page > tr > td')[0].text.replace(' ','')"
   ]
  },
  {
   "cell_type": "code",
   "execution_count": 32,
   "metadata": {
    "collapsed": false
   },
   "outputs": [
    {
     "name": "stdout",
     "output_type": "stream",
     "text": [
      "http://fyjud.lawbank.com.tw/content3.aspx?p=HLBDxjN85b%2fir7N%2bRv44Tkh4YUBpxbj7ABOyvpRvRyI%3d\n",
      "ASP.NET_SessionId=xq3yfxucb122zjy2in5qunr0;  lawbank=56910e17f7c747c8bff860ae662d701a-33; _ga=GA1.3.1224627297.1434421447; _gat=1; JubFrm-pagebox=%5EcourtFullName%3DPCDV%60%5Ekw%3D%E8%BB%8A%5Ejcatagory%3D2%5Eissimple%3D-1%5Ejt%3D%E6%90%8D%E5%AE%B3%E8%B3%A0%E5%84%9F; x=j=yUm4L9fKJqyv+bvUjQeEuHlX2Uk1M6ZY+srNvIy39vuzWoh6eGOtto71u8OudzDz0CrH2GdHmjzEw0HcygOQAKKol52OCpWqcN/hWtAXH5wtK7YHkY+mqVnBI8nlomnlQ5AZovZs+0FOApcFFCI81Twziync+0q9lbAbc/AAMfDVKeUWCo75SIj6ZL4pjW1D2c1/x2pbv8XvUxO8jfmyFdlmLU3cFLkmTCT92LgODLdHWBY9RNmpc0czOtRWt0ci3B8iN3oB4mKKPeVozMR8R1Ds7Ez/RKcatvJjV8NRR8bFqnGq1ml2/+D+lIQkYCiP; y=p=ij5jYMMp9YfEeA6u%2f9BFgWeYv7gMBn8bw8XmBGd%2ftsxvMZ1OKhuyPpH0ZrAPe3yS\n"
     ]
    }
   ],
   "source": [
    "target_element = soup.select('.Table-List > tbody > tr')[twenty_list].select('td > a')[0]\n",
    "link = uml+target_element['href']\n",
    "print 'link',link\n",
    "print\n",
    "cookie_yp = '; y=p=%s'%(target_element['onclick'].split('\\'')[1])\n",
    "cookie = origin_cookie+cookie_yp\n",
    "print 'cookie',cookie"
   ]
  },
  {
   "cell_type": "code",
   "execution_count": null,
   "metadata": {
    "collapsed": false
   },
   "outputs": [],
   "source": []
  }
 ],
 "metadata": {
  "kernelspec": {
   "display_name": "Python 2",
   "language": "python",
   "name": "python2"
  },
  "language_info": {
   "codemirror_mode": {
    "name": "ipython",
    "version": 2
   },
   "file_extension": ".py",
   "mimetype": "text/x-python",
   "name": "python",
   "nbconvert_exporter": "python",
   "pygments_lexer": "ipython2",
   "version": "2.7.10"
  }
 },
 "nbformat": 4,
 "nbformat_minor": 0
}
