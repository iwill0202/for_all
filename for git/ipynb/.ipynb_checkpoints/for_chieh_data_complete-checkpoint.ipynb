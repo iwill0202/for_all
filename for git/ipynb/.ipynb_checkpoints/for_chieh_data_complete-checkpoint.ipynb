{
 "cells": [
  {
   "cell_type": "code",
   "execution_count": null,
   "metadata": {
    "collapsed": true
   },
   "outputs": [],
   "source": []
  },
  {
   "cell_type": "code",
   "execution_count": 9,
   "metadata": {
    "collapsed": false
   },
   "outputs": [
    {
     "name": "stdout",
     "output_type": "stream",
     "text": [
      "def get_identification_doc(content) set\n",
      "def get_hurt_type(content) set\n",
      "def get_location(content) set\n",
      "def getAssertionExisting(content) set\n"
     ]
    }
   ],
   "source": [
    "#-*- coding:utf-8 -*-\n",
    "identification_doc = [u'道路交通事故調查報告表',u'調查報告表',u'現場勘查報告',\\\n",
    "    u'道路交通事故初步分析研判表',u'道路交通事故初步分析表',\\\n",
    "    u'車輛行車事故鑑定委員會鑑定意見書',u'鑑定意見書',\\\n",
    "    u'道路交通事故當事人登記聯單',u'車險理賠申請書',\\\n",
    "    u'道路交通事故現場圖',u'現場圖',u'鑑定委員會',\\\n",
    "    u'交通事故鑑定委員會',u'車輛行車事故鑑定會',\\\n",
    "    u'交通部公路總局車輛行車事故鑑定會',u'鑑定報告',\\\n",
    "    u'交通部公路總局車輛行車事故鑑定覆議會',u'行車事故鑑定覆議會']\n",
    "\n",
    "def get_identification_doc(content):\n",
    "    for i in identification_doc:\n",
    "        if i in content:\n",
    "            return 1\n",
    "            break\n",
    "    return 0\n",
    "\n",
    "print 'def get_identification_doc(content) set'\n",
    "\n",
    "death = [u'死亡', u'致死', u'殯葬', u'喪葬', u'收殮', u'不治', u'死']\n",
    "injured = [u'醫療費', u'醫療費用', u'藥費', u'醫藥費', u'醫藥費用', u'診療費', u'診療費用', u'急診費', u'急診費用', u'特別護士費',\\\n",
    "        u'救護車與特別護士費', u'醫療用品費', u'醫療用品費用', u'腦震盪費用', u'病房費', u'病房費用', u'住院費', u'住院費用',\\\n",
    "        u'住院用品等費用', u'住院用品費用', u'自費部份', u'整形', u'假牙費', u'醫院費', u'門診費', u'掛號費', u'醫療器材費',\\\n",
    "        u'植牙費', u'手術費', u'門診', u'醫療', u'傷', u'骨折', u'血', u'大量出血',u'內出血',u'化學性燒燙傷',u'化學性燒燙傷',u'水腦症',u'出血',u'出血性休克',u'外傷'\\\n",
    "        ,u'外傷性腦出血',u'甩鞭式傷害',u'多處擦傷',u'肌肉拉傷',u'肌肉異常',u'肌肉痙攣壓痛',u'肌肉較緊感'\\\n",
    "        ,u'肌張力異常症',u'肌腱炎',u'血氣胸',u'血胸',u'血腫',u'吸入性肺損傷',u'坐骨神經痛',u'扭傷'\\\n",
    "        ,u'折出血休克',u'受傷',u'呼吸衰竭',u'拉傷',u'肢體偏癱',u'表淺損傷',u'青光眼',u'活動受到侷限'\\\n",
    "        ,u'穿刺性骨折',u'紅腫',u'重度脫臼',u'挫傷',u'挫擦傷',u'浮腫',u'疼痛',u'病變',u'眩暈',u'破裂'\\\n",
    "        ,u'破損',u'神經根受損',u'神經根病變',u'神經根病變傷害',u'神經麻痺',u'神經損傷',u'神經壓迫'\\\n",
    "        ,u'神經叢病變',u'粉碎性骨折',u'缺氧性腦症中樞性衰竭',u'缺氧性腦症中樞性衰竭',u'缺損',u'胸悶'\\\n",
    "        ,u'脊椎病變',u'脊髓空洞症',u'脊髓損傷',u'退化性脊椎炎',u'退化性脊椎病變',u'退化性頸椎炎'\\\n",
    "        ,u'馬鞭症候群',u'骨折',u'骨折出血',u'骨折破裂',u'骨刺增生',u'骨斷裂',u'側重擊',u'梗塞',u'淤傷'\\\n",
    "        ,u'眼外傷性視神經病變',u'第二度燙傷',u'脫臼',u'脫位',u'閉鎖性骨折',u'創傷',u'散狀淤傷'\\\n",
    "        ,u'椎間盤凸出',u'椎間盤突出',u'椎間盤突出壓迫頸部脊髓',u'椎間盤移位',u'椎間盤脫出',u'無法支撐挺直'\\\n",
    "        ,u'無法任意轉動',u'無法擺正',u'痛',u'痠疼',u'發炎',u'硬化症',u'硬腦膜上腔出血',u'筋膜炎'\\\n",
    "        ,u'腔室症候群',u'鈍力挫傷',u'鈍挫傷',u'鈍傷',u'鈍銼傷',u'開放性骨折',u'開放性傷口'\\\n",
    "        ,u'傷口',u'傷害',u'損傷',u'暈眩',u'滑脫',u'滑脫症',u'瘀血',u'瘀青',u'瘀傷',u'瘀腫',u'腦部傷害致'\\\n",
    "        ,u'腦漿溢出',u'腦震盪',u'腫瘤',u'嘔吐',u'截肢',u'緊感',u'酸疼',u'酸痛',u'酸緊',u'僵直',u'僵硬'\\\n",
    "        ,u'廣泛性軸索損傷',u'撕裂性傷口',u'撕裂傷',u'撕裂擦傷',u'撞擊傷',u'線性骨折',u'線條性挫傷'\\\n",
    "        ,u'機能障礙',u'燙傷',u'頭痛',u'頸神經病變',u'壓迫性骨折',u'壓傷',u'壓擦傷',u'擦傷',u'濕疹'\\\n",
    "        ,u'膿傷',u'斷掌',u'斷裂',u'關節病變',u'關節症',u'觸痛']\n",
    "\n",
    "def get_hurt_type(content):\n",
    "    for i in death:\n",
    "        if i in content:\n",
    "            return 1\n",
    "            break\n",
    "    for i in injured:\n",
    "        if i in content:\n",
    "            return 2\n",
    "            break\n",
    "    return 3\n",
    "\n",
    "print 'def get_hurt_type(content) set'\n",
    "\n",
    "highway = [u'收費站附近', u'國道', u'高架道路', u'快速公路', u'匝道處', u'路肩', u'加速車道', u'減速車道']\n",
    "\n",
    "def get_location(content):\n",
    "    for i in highway:\n",
    "        if i in content:\n",
    "            return 1\n",
    "            break\n",
    "    return 2\n",
    "\n",
    "print 'def get_location(content) set'\n",
    "\n",
    "def getAssertionExisting(content):\n",
    "    condition = [False, False]\n",
    "    if u'兩造' in content:\n",
    "        condition = [True, True]\n",
    "    if u'原告主張' in content or u'原告起訴主張' in content:\n",
    "        condition[0] = True\n",
    "    if u'被告則以' in content or u'被告抗辯' in content or u'被告辯稱' in content or u'被告則辯稱' in content or u'答辯' in content or u'答辯聲明' in content or u'情詞置辯' in content:\n",
    "        condition[1] = True\n",
    "    if condition==[False, False]:\n",
    "        return 1\n",
    "    elif condition==[False, True]:\n",
    "        return 2\n",
    "    elif condition==[True, False]:\n",
    "        return 3\n",
    "    elif condition==[True, True]:\n",
    "        return 4\n",
    "print 'def getAssertionExisting(content) set'"
   ]
  },
  {
   "cell_type": "code",
   "execution_count": null,
   "metadata": {
    "collapsed": true
   },
   "outputs": [],
   "source": []
  },
  {
   "cell_type": "code",
   "execution_count": 25,
   "metadata": {
    "collapsed": false
   },
   "outputs": [
    {
     "name": "stdout",
     "output_type": "stream",
     "text": [
      "TYDV\t88\tsuit\t1428\r\n",
      "\n",
      "\t\t\t\r\n",
      "\n"
     ]
    },
    {
     "ename": "IndexError",
     "evalue": "list index out of range",
     "output_type": "error",
     "traceback": [
      "\u001b[1;31m---------------------------------------------------------------------------\u001b[0m",
      "\u001b[1;31mIndexError\u001b[0m                                Traceback (most recent call last)",
      "\u001b[1;32m<ipython-input-25-4dab8bd2c1c1>\u001b[0m in \u001b[0;36m<module>\u001b[1;34m()\u001b[0m\n\u001b[0;32m     41\u001b[0m         \u001b[0mline\u001b[0m \u001b[1;33m=\u001b[0m \u001b[0mline\u001b[0m\u001b[1;33m.\u001b[0m\u001b[0mstrip\u001b[0m\u001b[1;33m(\u001b[0m\u001b[1;33m)\u001b[0m\u001b[1;33m\u001b[0m\u001b[0m\n\u001b[0;32m     42\u001b[0m         \u001b[0mplace\u001b[0m \u001b[1;33m=\u001b[0m \u001b[0mcourtName_reverse\u001b[0m\u001b[1;33m(\u001b[0m\u001b[0mline\u001b[0m\u001b[1;33m.\u001b[0m\u001b[0msplit\u001b[0m\u001b[1;33m(\u001b[0m\u001b[1;34mu'\\t'\u001b[0m\u001b[1;33m)\u001b[0m\u001b[1;33m[\u001b[0m\u001b[1;36m0\u001b[0m\u001b[1;33m]\u001b[0m\u001b[1;33m)\u001b[0m\u001b[1;33m\u001b[0m\u001b[0m\n\u001b[1;32m---> 43\u001b[1;33m         \u001b[0myear\u001b[0m \u001b[1;33m=\u001b[0m \u001b[0mline\u001b[0m\u001b[1;33m.\u001b[0m\u001b[0msplit\u001b[0m\u001b[1;33m(\u001b[0m\u001b[1;34mu'\\t'\u001b[0m\u001b[1;33m)\u001b[0m\u001b[1;33m[\u001b[0m\u001b[1;36m1\u001b[0m\u001b[1;33m]\u001b[0m\u001b[1;33m\u001b[0m\u001b[0m\n\u001b[0m\u001b[0;32m     44\u001b[0m         \u001b[0mnumber\u001b[0m \u001b[1;33m=\u001b[0m \u001b[0mline\u001b[0m\u001b[1;33m.\u001b[0m\u001b[0msplit\u001b[0m\u001b[1;33m(\u001b[0m\u001b[1;34mu'\\t'\u001b[0m\u001b[1;33m)\u001b[0m\u001b[1;33m[\u001b[0m\u001b[1;36m3\u001b[0m\u001b[1;33m]\u001b[0m\u001b[1;33m.\u001b[0m\u001b[0mstrip\u001b[0m\u001b[1;33m(\u001b[0m\u001b[1;33m)\u001b[0m\u001b[1;33m\u001b[0m\u001b[0m\n\u001b[0;32m     45\u001b[0m         \u001b[0mfile_name\u001b[0m \u001b[1;33m=\u001b[0m \u001b[1;34mur'%s_%s_(.+)_%s'\u001b[0m\u001b[1;33m%\u001b[0m\u001b[1;33m(\u001b[0m\u001b[0mplace\u001b[0m\u001b[1;33m,\u001b[0m\u001b[0myear\u001b[0m\u001b[1;33m,\u001b[0m\u001b[0mnumber\u001b[0m\u001b[1;33m)\u001b[0m\u001b[1;33m\u001b[0m\u001b[0m\n",
      "\u001b[1;31mIndexError\u001b[0m: list index out of range"
     ]
    }
   ],
   "source": [
    "#-*- coding:utf-8 -*-\n",
    "'''\n",
    "convert the english to chinese\n",
    "'''\n",
    "\n",
    "\n",
    "courtName={u'南投':u'NTDV',u'臺中':u'TCDV',u'臺北':u'TPDV',u'臺南':u'TNDV',\\\n",
    "           u'臺東':u'TTDV',u'嘉義':u'CYDV',u'基隆':u'KLDV',u'士林':u'SLDV',\\\n",
    "           u'宜蘭':u'ILDV',u'屏東':u'PTDV',u'彰化':u'CHDV',u'新北':u'PCDV',\\\n",
    "           u'新竹':u'SCDV',u'桃園':u'TYDV',u'澎湖':u'PHDV',u'花蓮':u'HLDV',\\\n",
    "           u'苗栗':u'MLDV',u'連江':u'LCDV',u'金門':u'KMDV',u'雲林':u'ULDV',u'高雄':u'KSDV'}\n",
    "def courtName_reverse(place):\n",
    "    for c in courtName.keys():\n",
    "        if place==courtName[c]:\n",
    "            return c\n",
    "    \n",
    "import codecs\n",
    "import os\n",
    "import re\n",
    "# try:\n",
    "#     os.remove('attr_leak.txt')\n",
    "# except:\n",
    "#     pass\n",
    "\n",
    "with codecs.open(u'help.txt','r','utf-8') as f:\n",
    "    line = f.readline()\n",
    "    for i in range(31348):\n",
    "        line = f.readline()\n",
    "    for line in f:\n",
    "        print line\n",
    "        line = line.strip()\n",
    "        place = courtName_reverse(line.split(u'\\t')[0])\n",
    "        year = line.split(u'\\t')[1]\n",
    "        number = line.split(u'\\t')[3].strip()\n",
    "        file_name = ur'%s_%s_(.+)_%s'%(place,year,number)\n",
    "    #     file_name = ur'%s_103_._846'%(place)\n",
    "    #     print file_name\n",
    "        location = u'project\\\\%s\\\\'%place\n",
    "        all_files = os.path.abspath(location)\n",
    "        result = False\n",
    "        for x in os.listdir(all_files):\n",
    "            if re.search(file_name,x)!=None:\n",
    "                result = True\n",
    "                with codecs.open(os.path.join(location,x),'r','utf-8')as f:\n",
    "                    content = f.read().replace(u' ',u'').replace(u'　',u'').replace(u'\\r',u'').replace(u'\\n',u'')\n",
    "#                 with codecs.open('attr_leak.txt','a','utf-8') as fal:\n",
    "#                     fal.write(x+'\\t')\n",
    "#                     fal.write('%s\\t'%get_identification_doc(content))\n",
    "#                     fal.write('%s\\t'%get_hurt_type(content))\n",
    "#                     fal.write('%s\\t'%get_location(content))\n",
    "#                     fal.write('%s'%getAssertionExisting(content))\n",
    "#                     fal.write('\\r\\n')\n",
    "#                 \n",
    "#                 break\n",
    "        \n",
    "        if result==False:\n",
    "            print result\n",
    "            print file_name+' Fales'\n",
    "\n",
    "print 'done'"
   ]
  },
  {
   "cell_type": "code",
   "execution_count": null,
   "metadata": {
    "collapsed": false
   },
   "outputs": [],
   "source": []
  }
 ],
 "metadata": {
  "kernelspec": {
   "display_name": "Python 2",
   "language": "python",
   "name": "python2"
  },
  "language_info": {
   "codemirror_mode": {
    "name": "ipython",
    "version": 2
   },
   "file_extension": ".py",
   "mimetype": "text/x-python",
   "name": "python",
   "nbconvert_exporter": "python",
   "pygments_lexer": "ipython2",
   "version": "2.7.10"
  }
 },
 "nbformat": 4,
 "nbformat_minor": 0
}
