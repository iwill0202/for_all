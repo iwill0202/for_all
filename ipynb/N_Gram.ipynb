{
 "cells": [
  {
   "cell_type": "code",
   "execution_count": null,
   "metadata": {
    "collapsed": true
   },
   "outputs": [],
   "source": [
    "# -*- coding: utf-8 -*-\n",
    "\n",
    "\n",
    "#方法-----show 最後才會做 把所有21個地院的結果輸出\n",
    "#把word_dic 變成 words_freq -> list 並排序 從 大 到 小 全部!!!\n",
    "#輸出到資料夾內 叫 Ngram_n_m_xxxxxx\n",
    "def show(n,dic,total):\n",
    "    import operator\n",
    "    word_dic = dic\n",
    "    words_freq = sorted(word_dic.iteritems(),key=operator.itemgetter(1),reverse=True)\n",
    "    save = open('project\\Ngram_%d.txt'%n,'w')\n",
    "    save.write('there are %d files were analyzed\\n'%total)\n",
    "    for word in words_freq:#type(word) = list \n",
    "        save.write('%s %d\\n\\n'%(word[0].encode('utf-8'),word[1]))\n",
    "    save.close()\n",
    "    print 'function show is done, output a file!!!'\n",
    "    print 'end!!!!'\n",
    "print 'function show is set'"
   ]
  },
  {
   "cell_type": "code",
   "execution_count": null,
   "metadata": {
    "collapsed": true
   },
   "outputs": [],
   "source": [
    "#方法-----把資料 用 ngram 塞進 word_dic\n",
    "#set method ngram(input_data, n)\n",
    "\n",
    "def ngram(input_data, n):\n",
    "    for i in range(0,len(input_data)-n+1):\n",
    "        if input_data[i:i+n] not in word_dic:\n",
    "            word_dic[input_data[i:i+n]] = 1\n",
    "        else:\n",
    "            word_dic[input_data[i:i+n]] += 1\n",
    "print 'function ngram is set'"
   ]
  },
  {
   "cell_type": "code",
   "execution_count": null,
   "metadata": {
    "collapsed": true
   },
   "outputs": [],
   "source": [
    "#方法-----清理文章\n",
    "#去除空白 換行...etc    ps 一定要是unicode\n",
    "def wash(article):\n",
    "    import re\n",
    "    content = str(article)\n",
    "    a = content.strip().replace('　','').replace('<span  style=\"color:#e8e8e8\">.</span>','').decode('utf-8')\n",
    "    #半形 須加上'\\'\n",
    "    clear = re.sub(u'[\\○\\%\\(\\)\\s\\n,，。、（）／《》】…【「」；：\\s, ，\\.。:\\?？\\!！「」 ─┐ ─┘ \\[ \\] \\│ \\── \\─┼ \\┼─ \\├─ \\├ \\├─ \\┤ \\= \\┬┬ \\┴┴ \\d：【】、；-]','',a)\n",
    "    return clear\n",
    "print 'function wash is set'\n"
   ]
  },
  {
   "cell_type": "code",
   "execution_count": null,
   "metadata": {
    "collapsed": true
   },
   "outputs": [],
   "source": [
    "#方法-----input_where\n",
    "#把 地點 跟 檔名輸入方法中\n",
    "def input_where(location,name,n):\n",
    "    import re\n",
    "    index_file = open('%scheck_%s'%(location,name),'r')#會讀index檔案\n",
    "    index_file.readline()#跳過第一行是index的數據\n",
    "\n",
    "    #讀取第二行 <**non_repeat -7628> 抓最後面的數字 共幾筆 再抓筆數的 幾趴 預設0.3\n",
    "    number = int(int(index_file.readline().split('-')[1]) * 0.7)\n",
    "    print number#顯示抓幾筆\n",
    "    \n",
    "    for i in range(0,number):#跑筆數\n",
    "        name = index_file.readline().split('-')[1].strip().decode('utf-8')\n",
    "        inner_file = open('%s%s'%(location,name),'r')#抓到檔案\n",
    "        content = inner_file.readline()#過濾掉 第一行\n",
    "        content = inner_file.readline()#過濾掉 第二行\n",
    "        clear_article = wash(content)\n",
    "        ngram(clear_article,n)\n",
    "    index_file.close()\n",
    "    return number\n",
    "print 'function input_where is set'"
   ]
  },
  {
   "cell_type": "code",
   "execution_count": null,
   "metadata": {
    "collapsed": true
   },
   "outputs": [],
   "source": [
    "import time\n",
    "#N_gram  = ?\n",
    "for i in range(4,13):\n",
    "\tn = i\n",
    "\ttotal = 0\n",
    "\tword_dic = {}\n",
    "\tls = ['台北','士林','新北','宜蘭'\\\n",
    "\t\t ,'基隆','桃園','新竹','苗栗'\\\n",
    "\t\t ,'臺中','彰化','南投','雲林'\\\n",
    "\t\t ,'嘉義','台南','高雄','花蓮'\\\n",
    "\t\t ,'台東','屏東','澎湖','金門'\\\n",
    "\t\t ,'連江']\n",
    "\tprint '%d begin!!!'%n\n",
    "\tfor x in ls:#x = 台北\n",
    "\t\tplace = str(x)\n",
    "\t\tname = 'Web_%s.txt'%place.decode('utf-8') #Web_台北.txt\n",
    "\t\tlocation = 'project\\%s\\\\'%place.decode('utf-8') #project\\台北\\\n",
    "\t\t#跑方法\n",
    "\t\ttotal = total + input_where(location,name,n)\n",
    "\t\tprint '%s is done!'%place\n",
    "\t#呈現出來 結果\n",
    "\tshow(n, word_dic, total)\n",
    "\tprint 'N_gram %d is done!!!'%n\n",
    "\ttime.sleep(5)\n",
    "\t\n",
    "\n"
   ]
  }
 ],
 "metadata": {
  "kernelspec": {
   "display_name": "Python 2",
   "language": "python",
   "name": "python2"
  },
  "language_info": {
   "codemirror_mode": {
    "name": "ipython",
    "version": 2
   },
   "file_extension": ".py",
   "mimetype": "text/x-python",
   "name": "python",
   "nbconvert_exporter": "python",
   "pygments_lexer": "ipython2",
   "version": "2.7.10"
  }
 },
 "nbformat": 4,
 "nbformat_minor": 0
}
