{
 "cells": [
  {
   "cell_type": "code",
   "execution_count": 70,
   "metadata": {
    "collapsed": false
   },
   "outputs": [
    {
     "name": "stdout",
     "output_type": "stream",
     "text": [
      "function ngram is ok\n"
     ]
    }
   ],
   "source": [
    "# -*- coding:utf-8 -*-\n",
    "import re\n",
    "import os\n",
    "import codecs\n",
    "def ngram(pos,word_dic,n,useless):\n",
    "    place = str(pos)\n",
    "    location = u'project\\%s\\\\'%place.decode('utf-8')\n",
    "    all_files = os.path.abspath(location)\n",
    "    total_files = 0\n",
    "    for x in os.listdir(all_files)[:10]:\n",
    "        if x[0]!='W' and x[0]!='c':# removed Web_xxx.txt and check_xxx.txt\n",
    "            total_files +=1\n",
    "            print x\n",
    "            with codecs.open('%s%s'%(location,x),'r','utf-8') as f:\n",
    "                a = f.read().strip().replace(u'　','')\\\n",
    "                            .replace(u' ','')\\\n",
    "                            .replace(u'<span  style=\"color:#e8e8e8\">.</span>','')\n",
    "                content = re.sub(u'[\\○\\%\\(\\)\\s\\n,，。％、（）／《》】…【「」；：\\s, ，\\.。:\\?？\\!！「」 ─┐ ─┘ \\[ \\] \\│ \\── \\─┼ \\┼─ \\├─ \\├ \\├─ \\┤ \\= \\┬┬ \\┴┴ \\d：【】、；-]','',a)\n",
    "\n",
    "            #start for N-gram\n",
    "            for i in range(0,len(content)-n+1):\n",
    "                if content[i:i+n] in useless:\n",
    "                    continue\n",
    "                if content[i:i+n] not in word_dic:\n",
    "                    word_dic[content[i:i+n]] = 1\n",
    "                else:\n",
    "                    word_dic[content[i:i+n]] += 1\n",
    "                    #print content[i:i+n],word_dic[content[i:i+n]]\n",
    "    #print total_files\n",
    "    return total_files\n",
    "print 'function ngram is ok'"
   ]
  },
  {
   "cell_type": "code",
   "execution_count": 71,
   "metadata": {
    "collapsed": false
   },
   "outputs": [
    {
     "name": "stdout",
     "output_type": "stream",
     "text": [
      "function output is ok\n"
     ]
    }
   ],
   "source": [
    "def output(word_dic,total,n):\n",
    "    import operator\n",
    "    num = 0\n",
    "    total_files = total\n",
    "    upper = int(total_files*1.3)\n",
    "    lower = int(total_files*0.7)\n",
    "    \n",
    "    save_name = 'Ngram %d.txt'%n\n",
    "    with open(save_name,'w')as f:\n",
    "        f.write('there are %d files!\\n'%total)\n",
    "        for x in word_dic:\n",
    "            if word_dic[x]>= lower and word_dic[x]<= upper:\n",
    "                num+=1\n",
    "                f.write('(%d) - %s - %d\\n'%(num,x.encode('utf-8'),word_dic[x]))\n",
    "    print 'ok'\n",
    "print 'function output is ok'"
   ]
  },
  {
   "cell_type": "code",
   "execution_count": 73,
   "metadata": {
    "collapsed": false
   },
   "outputs": [
    {
     "name": "stdout",
     "output_type": "stream",
     "text": [
      "Let's start!\n",
      "Let's ROCK!!!\n",
      "list useless is ok\n",
      "臺北\n",
      "臺北_100_保險_107.txt\n",
      "臺北_100_保險_72.txt\n",
      "臺北_100_保險_8.txt\n",
      "臺北_100_保險_98.txt\n",
      "臺北_100_勞簡上_15.txt\n",
      "臺北_100_勞訴_215.txt\n",
      "臺北_100_勞訴_244.txt\n",
      "臺北_100_勞訴_74.txt\n",
      "8\n",
      "ok\n",
      "fucking 2 has done\n"
     ]
    }
   ],
   "source": [
    "print 'Let\\'s start!'\n",
    "n=2\n",
    "word_dic={}  #for seperate's words\n",
    "total = 0\n",
    "ls = ['臺北','士林','新北','宜蘭'\\\n",
    "\t ,'基隆','桃園','新竹','苗栗'\\\n",
    "\t ,'臺中','彰化','南投','雲林'\\\n",
    "\t ,'嘉義','臺南','高雄','花蓮'\\\n",
    "\t ,'臺東','屏東','澎湖','金門'\\\n",
    "\t ,'連江']\n",
    "\n",
    "print 'Let\\'s ROCK!!!'\n",
    "\n",
    "useless = []\n",
    "import codecs\n",
    "with codecs.open('useless.txt','r','utf-8') as f:\n",
    "    for x in f:\n",
    "        useless.append(x.strip())\n",
    "print 'list useless is ok'\n",
    "\n",
    "# total = ngram('金門',word_dic,n,useless)\n",
    "for x in ls[0:1]:\n",
    "    print x\n",
    "    total += ngram(x,word_dic,n,useless)\n",
    "print total\n",
    "output(word_dic,total,n)\n",
    "print 'fucking %d has done'%n"
   ]
  },
  {
   "cell_type": "code",
   "execution_count": null,
   "metadata": {
    "collapsed": false
   },
   "outputs": [],
   "source": []
  }
 ],
 "metadata": {
  "kernelspec": {
   "display_name": "Python 2",
   "language": "python",
   "name": "python2"
  },
  "language_info": {
   "codemirror_mode": {
    "name": "ipython",
    "version": 2
   },
   "file_extension": ".py",
   "mimetype": "text/x-python",
   "name": "python",
   "nbconvert_exporter": "python",
   "pygments_lexer": "ipython2",
   "version": "2.7.10"
  }
 },
 "nbformat": 4,
 "nbformat_minor": 0
}
