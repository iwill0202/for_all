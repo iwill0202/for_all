{
 "cells": [
  {
   "cell_type": "code",
   "execution_count": 10,
   "metadata": {
    "collapsed": false
   },
   "outputs": [
    {
     "name": "stdout",
     "output_type": "stream",
     "text": [
      "57408\n"
     ]
    }
   ],
   "source": [
    "import os\n",
    "ls = [u'臺北',u'士林',u'新北',u'宜蘭'\\\n",
    "     ,u'基隆',u'桃園',u'新竹',u'苗栗'\\\n",
    "     ,u'臺中',u'彰化',u'南投',u'雲林'\\\n",
    "     ,u'嘉義',u'臺南',u'高雄',u'花蓮'\\\n",
    "     ,u'臺東',u'屏東',u'澎湖',u'金門'\\\n",
    "     ,u'連江']\n",
    "def count(pos):\n",
    "    location = 'project\\\\%s\\\\'%pos\n",
    "    all_files = os.path.abspath(location)\n",
    "    return len(os.listdir(all_files))\n",
    "total=0\n",
    "for pos in ls:\n",
    "    total += count(pos)\n",
    "print total\n",
    "#59626 20150731 17:00\n",
    "#57410 20150731 20:00\n",
    "#57408 20150805 13:16"
   ]
  },
  {
   "cell_type": "code",
   "execution_count": 1,
   "metadata": {
    "collapsed": false
   },
   "outputs": [],
   "source": [
    "# from datetime import datetime\n",
    "import time\n",
    "before = time.time()\n",
    "\n",
    "print time.time()-before\n"
   ]
  },
  {
   "cell_type": "code",
   "execution_count": null,
   "metadata": {
    "collapsed": false
   },
   "outputs": [],
   "source": []
  },
  {
   "cell_type": "code",
   "execution_count": 59,
   "metadata": {
    "collapsed": false
   },
   "outputs": [
    {
     "name": "stdout",
     "output_type": "stream",
     "text": [
      "[[57, 62], [73, 76], [86, 50], [87, 98], [90, 98], [93, 78], [80, 59], [74, 80], [97, 55], [99, 92]]\n"
     ]
    }
   ],
   "source": [
    "import random\n",
    "a=1\n",
    "b=50\n",
    "ls=[]\n",
    "for x in range(10):\n",
    "    a=0\n",
    "    a=random.randint(a+50,b+50),random.randint(a+50,b+50)\n",
    "    ls.append(list(a))\n",
    "print ls"
   ]
  }
 ],
 "metadata": {
  "kernelspec": {
   "display_name": "Python 2",
   "language": "python",
   "name": "python2"
  },
  "language_info": {
   "codemirror_mode": {
    "name": "ipython",
    "version": 2
   },
   "file_extension": ".py",
   "mimetype": "text/x-python",
   "name": "python",
   "nbconvert_exporter": "python",
   "pygments_lexer": "ipython2",
   "version": "2.7.10"
  }
 },
 "nbformat": 4,
 "nbformat_minor": 0
}
