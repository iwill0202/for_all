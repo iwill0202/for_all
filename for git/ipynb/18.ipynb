{
 "cells": [
  {
   "cell_type": "code",
   "execution_count": 55,
   "metadata": {
    "collapsed": false
   },
   "outputs": [
    {
     "name": "stdout",
     "output_type": "stream",
     "text": [
      "done\n",
      "http://vs14.thisav.com/dl/pAoUOksonQjJ2FNM0tdn7Q,1437060765/151500.flv\n"
     ]
    }
   ],
   "source": [
    "import requests\n",
    "from bs4 import BeautifulSoup\n",
    "uml = 'http://www.thisav.com/video/151502/%E3%81%84%E3%81%84%E3%81%AA%E3%82%8A%E3%83%89m%E8%AA%BF%E6%95%99-%E7%8E%A9%E5%85%B7%E3%81%AB%E3%81%95%E3%82%8C%E3%81%9F%E5%A5%B3%E5%AD%90%E6%A0%A1%E7%94%9F-.html'\n",
    "res = requests.get(uml)\n",
    "res.coding = 'utf-8'\n",
    "soup = BeautifulSoup(res.text)\n",
    "# print soup\n",
    "for x in soup.select('script'):\n",
    "    if 'so.addVariable' in x.text:\n",
    "        url =  x.text.split('so.addVariable(\\'file\\',\\'')[1].split('\\'')[0]\n",
    "print 'done'\n",
    "print url\n",
    "name = url.split('/')[-1]\n",
    "import urllib2\n",
    "download = urllib2.urlopen(url)\n",
    "output = open(name,'wb')\n",
    "output.write(download.read())\n",
    "output.close()\n",
    "print 'done'"
   ]
  }
 ],
 "metadata": {
  "kernelspec": {
   "display_name": "Python 2",
   "language": "python",
   "name": "python2"
  },
  "language_info": {
   "codemirror_mode": {
    "name": "ipython",
    "version": 2
   },
   "file_extension": ".py",
   "mimetype": "text/x-python",
   "name": "python",
   "nbconvert_exporter": "python",
   "pygments_lexer": "ipython2",
   "version": "2.7.10"
  }
 },
 "nbformat": 4,
 "nbformat_minor": 0
}
