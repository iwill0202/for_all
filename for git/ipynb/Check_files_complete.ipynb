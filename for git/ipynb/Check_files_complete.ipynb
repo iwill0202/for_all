{
 "cells": [
  {
   "cell_type": "code",
   "execution_count": 5,
   "metadata": {
    "collapsed": false
   },
   "outputs": [
    {
     "name": "stdout",
     "output_type": "stream",
     "text": [
      "ok\n"
     ]
    }
   ],
   "source": [
    "# -*- coding: utf-8 -*-\n",
    "'''\n",
    "for check index file\n",
    "and output 3 things\n",
    "    non_repeat={}\n",
    "    repeat={}\n",
    "    non_files={}\n",
    "'''\n",
    "import os\n",
    "#check index file\n",
    "ls = ['臺北','士林','新北','宜蘭'\\\n",
    "\t ,'基隆','桃園','新竹','苗栗'\\\n",
    "\t ,'臺中','彰化','南投','雲林'\\\n",
    "\t ,'嘉義','臺南','高雄','花蓮'\\\n",
    "\t ,'臺東','屏東','澎湖','金門'\\\n",
    "\t ,'連江']\n",
    "print 'ok'\n",
    "non_complete = {}"
   ]
  },
  {
   "cell_type": "code",
   "execution_count": 30,
   "metadata": {
    "collapsed": false
   },
   "outputs": [],
   "source": [
    "a =u'check_Web_台北.txt'\n",
    "if a[0]!= u'c':\n",
    "    print 'fuck'"
   ]
  },
  {
   "cell_type": "code",
   "execution_count": 7,
   "metadata": {
    "collapsed": false
   },
   "outputs": [],
   "source": [
    "# -*- coding:uft-8 -*-\n",
    "import os.path\n",
    "import codecs\n",
    "\n",
    "def check_both(pos):\n",
    "    neither=[]\n",
    "    place = str(pos)\n",
    "    location = 'project\\%s\\\\'%place.decode('utf-8') #project\\台北\\\n",
    "    all_files = os.path.abspath(location)\n",
    "    for x in os.listdir(all_files):\n",
    "        with codecs.open('%s%s'%(location,x),'r','utf-8') as f:\n",
    "            content = f.read().replace(u'　',u'').replace(u' ',u'')\n",
    "        if content.find(u'法官') == -1 and content.find(u'書記官')==-1:\n",
    "            if x[0]!=u'c' and x[0]!=u'W':\n",
    "                neither.append(x)\n",
    "    return neither\n",
    "                \n",
    "def check_write(pos):\n",
    "    no_write=[]\n",
    "    place = str(pos)\n",
    "    location = 'project\\%s\\\\'%place.decode('utf-8') #project\\台北\\\n",
    "    all_files = os.path.abspath(location)\n",
    "    for x in os.listdir(all_files):\n",
    "        with codecs.open('%s%s'%(location,x),'r','utf-8') as f:\n",
    "            content = f.read().replace(u'　',u'').replace(u' ',u'')\n",
    "        if content.find(u'書記官')==-1:\n",
    "            if x[0]!=u'c' and x[0]!=u'W':\n",
    "                no_write.append(x)\n",
    "    return no_write\n",
    "                \n",
    "def check_law(pos):\n",
    "    no_law=[]\n",
    "    place = str(pos)\n",
    "    location = 'project\\%s\\\\'%place.decode('utf-8') #project\\台北\\\n",
    "    all_files = os.path.abspath(location)\n",
    "    for x in os.listdir(all_files):\n",
    "        with codecs.open('%s%s'%(location,x),'r','utf-8') as f:\n",
    "            content = f.read().replace(u'　',u'').replace(u' ',u'')\n",
    "        if content.find(u'法官') == -1:\n",
    "            if x[0]!=u'c' and x[0]!=u'W':\n",
    "                no_law.append(x)\n",
    "    return no_law"
   ]
  },
  {
   "cell_type": "code",
   "execution_count": 17,
   "metadata": {
    "collapsed": false
   },
   "outputs": [
    {
     "name": "stdout",
     "output_type": "stream",
     "text": [
      "0\n",
      "14\n",
      "2\n"
     ]
    }
   ],
   "source": [
    "neither = []\n",
    "no_write = []\n",
    "no_law = []\n",
    "for a in ls:\n",
    "    for x in check_both(a):\n",
    "        neither.append(x)\n",
    "    print len(neither)\n",
    "    for x in check_write(a):\n",
    "        no_write.append(x)\n",
    "    print len(no_write)\n",
    "    for x in check_law(a):\n",
    "        no_law.append(x)\n",
    "    print len(no_law)"
   ]
  },
  {
   "cell_type": "code",
   "execution_count": null,
   "metadata": {
    "collapsed": false
   },
   "outputs": [],
   "source": []
  },
  {
   "cell_type": "code",
   "execution_count": 29,
   "metadata": {
    "collapsed": false
   },
   "outputs": [
    {
     "name": "stdout",
     "output_type": "stream",
     "text": [
      "both is done\n",
      "no write is done\n",
      "no law is done\n"
     ]
    }
   ],
   "source": [
    "with open(u'兩個都沒有.txt','w') as f:\n",
    "    f.write('兩個都沒有數目 - %d\\n'%len(neither))\n",
    "    num = 1\n",
    "    for x in neither:\n",
    "        f.write('%d - %s\\n'%(num,x.encode('utf-8')))\n",
    "        num+=1\n",
    "print 'both is done'\n",
    "\n",
    "#------------------------------------------------------------------------\n",
    "with open(u'沒書記官.txt','w') as f:\n",
    "    f.write('沒書記官數目 - %d\\n'%len(no_write))\n",
    "    num = 1\n",
    "    for x in no_write:\n",
    "        f.write('%d - %s\\n'%(num,x.encode('utf-8')))\n",
    "        num+=1\n",
    "print 'no write is done'\n",
    "\n",
    "#------------------------------------------------------------------------\n",
    "with open(u'沒法官.txt','w') as f:\n",
    "    f.write('沒法官數目 - %d\\n'%len(no_law))\n",
    "    num = 1\n",
    "    for x in no_law:\n",
    "        f.write('%d - %s\\n'%(num,x.encode('utf-8')))\n",
    "        num+=1\n",
    "print 'no law is done'"
   ]
  }
 ],
 "metadata": {
  "kernelspec": {
   "display_name": "Python 2",
   "language": "python",
   "name": "python2"
  },
  "language_info": {
   "codemirror_mode": {
    "name": "ipython",
    "version": 2
   },
   "file_extension": ".py",
   "mimetype": "text/x-python",
   "name": "python",
   "nbconvert_exporter": "python",
   "pygments_lexer": "ipython2",
   "version": "2.7.10"
  }
 },
 "nbformat": 4,
 "nbformat_minor": 0
}
