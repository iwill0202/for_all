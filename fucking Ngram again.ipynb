{
 "cells": [
  {
   "cell_type": "code",
   "execution_count": 21,
   "metadata": {
    "collapsed": false
   },
   "outputs": [
    {
     "name": "stdout",
     "output_type": "stream",
     "text": [
      "function ngram is ok\n"
     ]
    }
   ],
   "source": [
    "# -*- coding:utf-8 -*-\n",
    "import re\n",
    "import os\n",
    "\n",
    "def ngram(pos,word_dic,n,useless):\n",
    "    place = str(pos)\n",
    "    location = u'project\\%s\\\\'%place.decode('utf-8')\n",
    "    all_files = os.path.abspath(location)\n",
    "    total_files =  len(os.listdir(all_files))\n",
    "    for x in os.listdir(all_files)[:100]:\n",
    "\n",
    "        if x[0]!='W' and x[0]!='c':# removed Web_xxx.txt and check_xxx.txt\n",
    "\n",
    "            with open('%s%s'%(location,x),'r') as f:\n",
    "                a = f.read().strip().replace('　','')\\\n",
    "                            .replace(' ','')\\\n",
    "                            .replace('<span  style=\"color:#e8e8e8\">.</span>','')\\\n",
    "                            .decode('utf-8')\n",
    "                content = re.sub(u'[\\○\\%\\(\\)\\s\\n,，。、（）／《》】…【「」；：\\s, ，\\.。:\\?？\\!！「」 ─┐ ─┘ \\[ \\] \\│ \\── \\─┼ \\┼─ \\├─ \\├ \\├─ \\┤ \\= \\┬┬ \\┴┴ \\d：【】、；-]','',a)\n",
    "\n",
    "            #start for N-gram\n",
    "            for i in range(0,len(content)-n+1):\n",
    "                if content[i:i+n] in useless:\n",
    "                    continue\n",
    "                if content[i:i+n] not in word_dic:\n",
    "                    word_dic[content[i:i+n]] = 1\n",
    "                else:\n",
    "                    word_dic[content[i:i+n]] += 1.3\n",
    "    #print total_files\n",
    "    return total_files\n",
    "print 'function ngram is ok'"
   ]
  },
  {
   "cell_type": "code",
   "execution_count": 22,
   "metadata": {
    "collapsed": false
   },
   "outputs": [
    {
     "name": "stdout",
     "output_type": "stream",
     "text": [
      "function output is ok\n"
     ]
    }
   ],
   "source": [
    "def output(word_dic,total,n,useless):\n",
    "    import operator\n",
    "    num = 0\n",
    "    total_files = total\n",
    "    upper = int(total_files*1.3)\n",
    "    lower = int(total_files*0.7)\n",
    "    \n",
    "    save_name = 'Ngram %d.txt'%n\n",
    "    with open(save_name,'w')as f:\n",
    "        f.write('there are %d files!\\n'%total)\n",
    "        for x in word_dic:\n",
    "            if word_dic[x]>= lower and word_dic[x]<= upper:\n",
    "                num+=1\n",
    "                f.write('(%d) - %s - %d\\n'%(num,x.encode('utf-8'),word_dic[x]))\n",
    "    print 'ok'\n",
    "print 'function output is ok'"
   ]
  },
  {
   "cell_type": "code",
   "execution_count": 23,
   "metadata": {
    "collapsed": false
   },
   "outputs": [
    {
     "name": "stdout",
     "output_type": "stream",
     "text": [
      "Let's start!\n",
      "Let's ROCK!!!\n",
      "list useless is ok\n",
      "臺北\n",
      "士林\n",
      "14669\n"
     ]
    },
    {
     "name": "stderr",
     "output_type": "stream",
     "text": [
      "C:\\Python27\\lib\\site-packages\\IPython\\kernel\\__main__.py:20: UnicodeWarning: Unicode equal comparison failed to convert both arguments to Unicode - interpreting them as being unequal\n"
     ]
    },
    {
     "ename": "TypeError",
     "evalue": "output() takes exactly 4 arguments (3 given)",
     "output_type": "error",
     "traceback": [
      "\u001b[1;31m---------------------------------------------------------------------------\u001b[0m",
      "\u001b[1;31mTypeError\u001b[0m                                 Traceback (most recent call last)",
      "\u001b[1;32m<ipython-input-23-f58bb3edc786>\u001b[0m in \u001b[0;36m<module>\u001b[1;34m()\u001b[0m\n\u001b[0;32m     17\u001b[0m         \u001b[1;32mprint\u001b[0m \u001b[0mx\u001b[0m\u001b[1;33m\u001b[0m\u001b[0m\n\u001b[0;32m     18\u001b[0m \u001b[1;32mprint\u001b[0m \u001b[0mtotal\u001b[0m\u001b[1;33m\u001b[0m\u001b[0m\n\u001b[1;32m---> 19\u001b[1;33m \u001b[0moutput\u001b[0m\u001b[1;33m(\u001b[0m\u001b[0mword_dic\u001b[0m\u001b[1;33m,\u001b[0m\u001b[0mtotal\u001b[0m\u001b[1;33m,\u001b[0m\u001b[0mn\u001b[0m\u001b[1;33m)\u001b[0m\u001b[1;33m\u001b[0m\u001b[0m\n\u001b[0m\u001b[0;32m     20\u001b[0m \u001b[1;32mprint\u001b[0m \u001b[1;34m'fucking %d has done'\u001b[0m\u001b[1;33m%\u001b[0m\u001b[0mn\u001b[0m\u001b[1;33m\u001b[0m\u001b[0m\n",
      "\u001b[1;31mTypeError\u001b[0m: output() takes exactly 4 arguments (3 given)"
     ]
    }
   ],
   "source": [
    "print 'Let\\'s start!'\n",
    "n=2\n",
    "word_dic={}  #for seperate's words\n",
    "total = 0\n",
    "ls = ['臺北','士林','新北','宜蘭'\\\n",
    "\t ,'基隆','桃園','新竹','苗栗'\\\n",
    "\t ,'臺中','彰化','南投','雲林'\\\n",
    "\t ,'嘉義','臺南','高雄','花蓮'\\\n",
    "\t ,'臺東','屏東','澎湖','金門'\\\n",
    "\t ,'連江']\n",
    "\n",
    "print 'Let\\'s ROCK!!!'\n",
    "\n",
    "useless = []\n",
    "with open('useless.txt','r') as f:\n",
    "    for x in f:\n",
    "        useless.append(x.strip())\n",
    "print 'list useless is ok'\n",
    "\n",
    "for x in ls[0:2]:\n",
    "\ttotal += ngram(x,word_dic,n,useless)\n",
    "\tprint x\n",
    "print total\n",
    "output(word_dic,total,n)\n",
    "print 'fucking %d has done'%n"
   ]
  },
  {
   "cell_type": "code",
   "execution_count": null,
   "metadata": {
    "collapsed": false
   },
   "outputs": [],
   "source": []
  },
  {
   "cell_type": "code",
   "execution_count": null,
   "metadata": {
    "collapsed": true
   },
   "outputs": [],
   "source": []
  },
  {
   "cell_type": "code",
   "execution_count": null,
   "metadata": {
    "collapsed": false
   },
   "outputs": [],
   "source": []
  },
  {
   "cell_type": "code",
   "execution_count": null,
   "metadata": {
    "collapsed": true
   },
   "outputs": [],
   "source": []
  }
 ],
 "metadata": {
  "kernelspec": {
   "display_name": "Python 2",
   "language": "python",
   "name": "python2"
  },
  "language_info": {
   "codemirror_mode": {
    "name": "ipython",
    "version": 2
   },
   "file_extension": ".py",
   "mimetype": "text/x-python",
   "name": "python",
   "nbconvert_exporter": "python",
   "pygments_lexer": "ipython2",
   "version": "2.7.10"
  }
 },
 "nbformat": 4,
 "nbformat_minor": 0
}
