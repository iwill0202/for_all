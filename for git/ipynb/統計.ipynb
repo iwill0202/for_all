{
 "cells": [
  {
   "cell_type": "code",
   "execution_count": 1,
   "metadata": {
    "collapsed": true
   },
   "outputs": [],
   "source": [
    "import pandas as pd\n",
    "import patsy\n",
    "import statsmodels.api as sm\n",
    "x = [1, 3, 5, 6, 8]\n",
    "y = [0, 1, 0, 1, 1]\n",
    "d = { \"x\": pd.Series(x), \"y\": pd.Series(y)}\n",
    "df = pd.DataFrame(d)\n",
    "\n",
    "# model = \"y ~ x\"\n",
    "# glm = sm.Logit(model, df=df).fit()\n",
    "f = 'y ~ x'\n",
    "y, X = patsy.dmatrices(f, df, return_type='dataframe')\n",
    "sm.Logit(y, X).fit().summary()"
   ]
  },
  {
   "cell_type": "code",
   "execution_count": 2,
   "metadata": {
    "collapsed": false
   },
   "outputs": [
    {
     "name": "stdout",
     "output_type": "stream",
     "text": [
      "Optimization terminated successfully.\n",
      "         Current function value: 0.511631\n",
      "         Iterations 6\n"
     ]
    },
    {
     "data": {
      "text/html": [
       "<table class=\"simpletable\">\n",
       "<caption>Logit Regression Results</caption>\n",
       "<tr>\n",
       "  <th>Dep. Variable:</th>         <td>y</td>        <th>  No. Observations:  </th>  <td>     5</td> \n",
       "</tr>\n",
       "<tr>\n",
       "  <th>Model:</th>               <td>Logit</td>      <th>  Df Residuals:      </th>  <td>     3</td> \n",
       "</tr>\n",
       "<tr>\n",
       "  <th>Method:</th>               <td>MLE</td>       <th>  Df Model:          </th>  <td>     1</td> \n",
       "</tr>\n",
       "<tr>\n",
       "  <th>Date:</th>          <td>Fri, 14 Aug 2015</td> <th>  Pseudo R-squ.:     </th>  <td>0.2398</td> \n",
       "</tr>\n",
       "<tr>\n",
       "  <th>Time:</th>              <td>22:38:04</td>     <th>  Log-Likelihood:    </th> <td> -2.5582</td>\n",
       "</tr>\n",
       "<tr>\n",
       "  <th>converged:</th>           <td>True</td>       <th>  LL-Null:           </th> <td> -3.3651</td>\n",
       "</tr>\n",
       "<tr>\n",
       "  <th> </th>                      <td> </td>        <th>  LLR p-value:       </th>  <td>0.2040</td> \n",
       "</tr>\n",
       "</table>\n",
       "<table class=\"simpletable\">\n",
       "<tr>\n",
       "      <td></td>         <th>coef</th>     <th>std err</th>      <th>z</th>      <th>P>|z|</th> <th>[95.0% Conf. Int.]</th> \n",
       "</tr>\n",
       "<tr>\n",
       "  <th>Intercept</th> <td>   -2.0544</td> <td>    2.452</td> <td>   -0.838</td> <td> 0.402</td> <td>   -6.861     2.752</td>\n",
       "</tr>\n",
       "<tr>\n",
       "  <th>x</th>         <td>    0.5672</td> <td>    0.528</td> <td>    1.073</td> <td> 0.283</td> <td>   -0.468     1.603</td>\n",
       "</tr>\n",
       "</table>"
      ],
      "text/plain": [
       "<class 'statsmodels.iolib.summary.Summary'>\n",
       "\"\"\"\n",
       "                           Logit Regression Results                           \n",
       "==============================================================================\n",
       "Dep. Variable:                      y   No. Observations:                    5\n",
       "Model:                          Logit   Df Residuals:                        3\n",
       "Method:                           MLE   Df Model:                            1\n",
       "Date:                Fri, 14 Aug 2015   Pseudo R-squ.:                  0.2398\n",
       "Time:                        22:38:04   Log-Likelihood:                -2.5582\n",
       "converged:                       True   LL-Null:                       -3.3651\n",
       "                                        LLR p-value:                    0.2040\n",
       "==============================================================================\n",
       "                 coef    std err          z      P>|z|      [95.0% Conf. Int.]\n",
       "------------------------------------------------------------------------------\n",
       "Intercept     -2.0544      2.452     -0.838      0.402        -6.861     2.752\n",
       "x              0.5672      0.528      1.073      0.283        -0.468     1.603\n",
       "==============================================================================\n",
       "\"\"\""
      ]
     },
     "execution_count": 2,
     "metadata": {},
     "output_type": "execute_result"
    }
   ],
   "source": []
  }
 ],
 "metadata": {
  "kernelspec": {
   "display_name": "Python 2",
   "language": "python",
   "name": "python2"
  },
  "language_info": {
   "codemirror_mode": {
    "name": "ipython",
    "version": 2
   },
   "file_extension": ".py",
   "mimetype": "text/x-python",
   "name": "python",
   "nbconvert_exporter": "python",
   "pygments_lexer": "ipython2",
   "version": "2.7.10"
  }
 },
 "nbformat": 4,
 "nbformat_minor": 0
}
