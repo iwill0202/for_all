{
 "cells": [
  {
   "cell_type": "code",
   "execution_count": null,
   "metadata": {
    "collapsed": true
   },
   "outputs": [],
   "source": [
    "'''\n",
    "to import datetime time\n",
    "'''\n",
    "import datetime\n",
    "print datetime.datetime.today()\n",
    "#2015-06-29 21:22:38.573000\n",
    "\n",
    "#date\n",
    "print datetime.datetime.date(datetime.datetime.now())\n",
    "#2015-06-29 21:22:38.573000\n",
    "#_______________________________________________________\n",
    "\n",
    "from datetime import datetime\n",
    "#time\n",
    "print datetime.now().time()\n",
    "#21:22:38.573000\n",
    "#_______________________________________________________\n",
    "\n",
    "from time import gmtime, strftime\n",
    "print strftime(\"%Y-%m-%d %H:%M:%S\", gmtime())\n",
    "#2015-06-29 13:22:38\n",
    "#_______________________________________________________\n",
    "\n",
    "from datetime import datetime\n",
    "print datetime.now().strftime('%Y-%m-%d %H:%M:%S')\n",
    "#2015-06-29 21:22:38\n",
    "#_______________________________________________________\n",
    "\n",
    "import time\n",
    "before = time.time()\n",
    "time.sleep(10)\n",
    "print time.time()-before\n",
    "\n",
    "#_______________________________________________________\n",
    "\n",
    "from datetime import datetime\n",
    "print datetime.date(datetime.now())#2015-06-29\n",
    "now = datetime.now()\n",
    "print 'now.hour - %d'%now.hour#now.hour - 21\n",
    "print 'now.minute - %d'%now.minute#now.minute - 37\n",
    "print 'now.second - %d'%now.second#now.second - 52"
   ]
  }
 ],
 "metadata": {
  "kernelspec": {
   "display_name": "Python 2",
   "language": "python",
   "name": "python2"
  },
  "language_info": {
   "codemirror_mode": {
    "name": "ipython",
    "version": 2
   },
   "file_extension": ".py",
   "mimetype": "text/x-python",
   "name": "python",
   "nbconvert_exporter": "python",
   "pygments_lexer": "ipython2",
   "version": "2.7.10"
  }
 },
 "nbformat": 4,
 "nbformat_minor": 0
}
