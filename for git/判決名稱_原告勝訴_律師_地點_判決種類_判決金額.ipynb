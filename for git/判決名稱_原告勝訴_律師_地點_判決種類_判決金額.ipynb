{
 "cells": [
  {
   "cell_type": "code",
   "execution_count": 1,
   "metadata": {
    "collapsed": false
   },
   "outputs": [
    {
     "name": "stdout",
     "output_type": "stream",
     "text": [
      "def get_lawyer(ls) set\n"
     ]
    }
   ],
   "source": [
    "def get_lawyer(ls):\n",
    "\n",
    "    num  = len(ls)\n",
    "\n",
    "    #因為律師可能不只一個所以塞進list裡面\n",
    "    Plaintiffs_lawyer = []\n",
    "    Defendants_lawyer = []\n",
    "    for i in range(0,num):\n",
    "        ls[i] = ls[i].replace(u'　',u'').replace(u' ',u'')\n",
    "        #find Plaintiff 's lawyer\n",
    "        if ls[i].find(u'原告') != -1:\n",
    "            for terminal in range(1,20):\n",
    "                next_line = ls[i+terminal].replace(u'　',u'').replace(u' ',u'')\n",
    "                if next_line.find(u'被告') != -1:\n",
    "                    break\n",
    "                if next_line.find(u'律師') != -1:\n",
    "                    if len(next_line)>5:\n",
    "                        if u'複代理人' in next_line:\n",
    "                            next_line = next_line.split(u'複代理人')[1]\n",
    "                            people = next_line.find(u'律師')\n",
    "                            Plaintiffs_lawyer.append(next_line[:people+2])\n",
    "                            continue\n",
    "                            \n",
    "                        elif len(next_line)>10:\n",
    "                            people = next_line.find(u'人')\n",
    "                            law = next_line.find(u'律師')\n",
    "                            Plaintiffs_lawyer.append(next_line[people+1:law+2])\n",
    "                            continue\n",
    "                            \n",
    "                        elif u'共同訴訟代' in next_line:\n",
    "                            cor = next_line.find(u'共同')\n",
    "                            Plaintiffs_lawyer.append(next_line[cor+5:])\n",
    "                            continue\n",
    "                        \n",
    "                        elif u'共同' in next_line and u'訴訟代' not in next_line:\n",
    "                            cor = next_line.find(u'共同')\n",
    "                            Plaintiffs_lawyer.append(next_line[cor+2:])\n",
    "                            continue\n",
    "                            \n",
    "                        else:\n",
    "                            people = next_line.find(u'人')\n",
    "                            Plaintiffs_lawyer.append(next_line[people+1:])\n",
    "                    else:\n",
    "                        Plaintiffs_lawyer.append(next_line)\n",
    "\n",
    "\n",
    "        #find Defendant 's lawyer\n",
    "        if u'被告' in ls[i]:\n",
    "            \n",
    "            for terminal in range(1,20):\n",
    "                next_line = ls[i+terminal].replace(u'　',u'').replace(u' ',u'')\n",
    "                if u'主文' in next_line:\n",
    "                    break\n",
    "                    \n",
    "                if u'律師' in next_line:\n",
    "                    if len(next_line)>5:\n",
    "                        if u'複代理人' in next_line:\n",
    "                            next_line = next_line.split(u'複代理人')[1]\n",
    "                            people = next_line.find(u'律師')\n",
    "                            Defendants_lawyer.append(next_line[:people+2])\n",
    "                            continue\n",
    "                            \n",
    "                        elif len(next_line)>10:\n",
    "                            people = next_line.find(u'人')\n",
    "                            law = next_line.find(u'律師')\n",
    "                            Defendants_lawyer.append(next_line[people+1:law+2])\n",
    "                            continue\n",
    "                            \n",
    "                        elif u'共同訴訟代' in next_line:\n",
    "                            cor = next_line.find(u'共同')\n",
    "                            Defendants_lawyer.append(next_line[cor+5:])\n",
    "                            continue\n",
    "                        \n",
    "                        elif u'共同' in next_line and u'訴訟代' not in next_line:\n",
    "                            cor = next_line.find(u'共同')\n",
    "                            Defendants_lawyer.append(next_line[cor+2:])\n",
    "                            continue\n",
    "\n",
    "                        else:\n",
    "                            people = next_line.find(u'人')\n",
    "                            Defendants_lawyer.append(next_line[people+1:])\n",
    "                    else:\n",
    "                        Defendants_lawyer.append(next_line)\n",
    "            break\n",
    "    \n",
    "#     for i in Plaintiffs_lawyer:\n",
    "#         print len(i),i\n",
    "#     print '---'\n",
    "#     for i in Defendants_lawyer:\n",
    "#         print len(i),i\n",
    "    Plaintiffs_lawyer = Plaintiffs_lawyer if len(Plaintiffs_lawyer) != 0 else 0\n",
    "    Defendants_lawyer = Defendants_lawyer if len(Defendants_lawyer) != 0 else 0\n",
    "    return Plaintiffs_lawyer , Defendants_lawyer\n",
    "    \n",
    "\n",
    "print 'def get_lawyer(ls) set'"
   ]
  },
  {
   "cell_type": "code",
   "execution_count": 2,
   "metadata": {
    "collapsed": false
   },
   "outputs": [
    {
     "name": "stdout",
     "output_type": "stream",
     "text": [
      "def Plaintiff_win(ls) set\n"
     ]
    }
   ],
   "source": [
    "def Plaintiff_win(ls):\n",
    "    start = 0\n",
    "    stop = 150\n",
    "    for i in range(len(ls)):\n",
    "        line = ls[i].replace(u'　',u'').replace(u' ',u'').strip()\n",
    "        if u'主文' in line:\n",
    "            start = i\n",
    "        if u'事實' in line or u'理由' in line:\n",
    "            stop = i\n",
    "            break\n",
    "\n",
    "    if u'給付' in '\\n'.join(ls[start:stop]):\n",
    "        return 1\n",
    "    else:\n",
    "        return 0\n",
    "\n",
    "print 'def Plaintiff_win(ls) set'"
   ]
  },
  {
   "cell_type": "code",
   "execution_count": null,
   "metadata": {
    "collapsed": false
   },
   "outputs": [],
   "source": []
  },
  {
   "cell_type": "code",
   "execution_count": 5,
   "metadata": {
    "collapsed": false
   },
   "outputs": [
    {
     "name": "stdout",
     "output_type": "stream",
     "text": [
      "參萬參仟零壹拾陸\n",
      "捌萬元\n"
     ]
    },
    {
     "data": {
      "text/plain": [
       "80000"
      ]
     },
     "execution_count": 5,
     "metadata": {},
     "output_type": "execute_result"
    }
   ],
   "source": [
    "'''\n",
    "for test transform()\n",
    "'''\n",
    "transform(u'參萬參仟零壹拾陸')\n",
    "transform(u'捌萬元')"
   ]
  },
  {
   "cell_type": "code",
   "execution_count": 3,
   "metadata": {
    "collapsed": false
   },
   "outputs": [
    {
     "name": "stdout",
     "output_type": "stream",
     "text": [
      "def transform(ls) set\n"
     ]
    }
   ],
   "source": [
    "#方法 transform-----輸入 money\n",
    "def transform(money):\n",
    "    num=0      #for 中文數字的第幾個位置\n",
    "    total = 0  #for 數字總合\n",
    "    #------------\n",
    "    get_m = [] #塞入money_unit\n",
    "\n",
    "    get_n = [] #塞入number\n",
    "    #------------\n",
    "#     print money #印出中文大寫數字---------------------------------\n",
    "    #------------\n",
    "    \n",
    "    money_unit ={u'萬':10000,u'仟':1000,u'佰':100,u'拾':10,u'千':1000,u'百':100,u'十':10}\n",
    "    number={u'零':0,u'壹':1,u'貳':2,u'參':3,u'肆':4,\\\n",
    "            u'伍':5,u'陸':6,u'柒':7,u'捌':8,u'玖':9,\\\n",
    "            u'一':1,u'二':2,u'三':3,u'四':4,\\\n",
    "            u'五':5,u'六':6,u'七':7,u'八':8,u'九':9}\n",
    "    \n",
    "    \n",
    "    for x in range(0,len(money)):\n",
    "        if money[num]==u'零':#若是0就跳過\n",
    "            num+=1\n",
    "            continue\n",
    "        elif money[num] in number:#若是 數字 開頭\n",
    "            if num==len(money)-1:#判斷是否目前位置等於總長度    相等 是有個位數\n",
    "                get_n.append(number[money[num]])\n",
    "                get_m.append(1)\n",
    "                break\n",
    "\n",
    "            get_n.append(number[money[num]])\n",
    "            num+=1\n",
    "\n",
    "            get_m.append(money_unit[money[num]])\n",
    "\n",
    "            if num==len(money)-1:#若是沒有個位數 就直接結束\n",
    "                break\n",
    "            num+=1\n",
    "\n",
    "            if money[num] in money_unit:#只看是否是 萬  eg  壹拾\"萬\"\n",
    "                get_n.append(0)\n",
    "                get_m.append(money_unit[money[num]])\n",
    "                if num==len(money)-1:\n",
    "                    break\n",
    "                num+=1\n",
    "\n",
    "#                 if num==len(money)-1:#若是沒有個位數 就直接結束\n",
    "#                     break\n",
    "\n",
    "        elif money[num] in money_unit:#若是 十 開頭  eg  拾萬\n",
    "            get_n.append(1)\n",
    "            get_m.append(10)\n",
    "            num+=1\n",
    "            if money[num] in number:\n",
    "                get_n.append(number[money[num]])\n",
    "                num+=1\n",
    "                get_m.append(money_unit[money[num]])\n",
    "                if num==len(money)-1:\n",
    "                    break\n",
    "                num+=1\n",
    "                continue\n",
    "                \n",
    "                \n",
    "            get_n.append(0)\n",
    "            get_m.append(money_unit[money[num]])\n",
    "            \n",
    "            \n",
    "            if num==len(money)-1:\n",
    "                break\n",
    "                \n",
    "            num+=1\n",
    "            \n",
    "            if money[num] in money_unit:\n",
    "                #print num,0,money_unit[money[num]],'shit'\n",
    "\n",
    "                get_n.append(0)\n",
    "                get_m.append(money_unit[money[num]])\n",
    "                num+=1\n",
    "\n",
    "                if num==len(money)-1:\n",
    "                    break\n",
    "\n",
    "    #運用get_n get_m 倆倆一組 開始相乘\n",
    "    times = len(get_n) if get_n>get_m else len(get_m)\n",
    "    \n",
    "    if 10000 in get_m:                 #若是有 \"萬\"\n",
    "        change = get_m.index(10000)    #找出萬的位置\n",
    "        for x in range(0,change):      #萬以前的單位 get_m 都乘 10000\n",
    "            get_m[x] = get_m[x]*10000\n",
    "\n",
    "    for x in range(0,times):           #get_m * get_n 在相加到 total\n",
    "        total+=get_n[x]*get_m[x]\n",
    "    \n",
    "    return total\n",
    "#     print '判賠金額 - %d'%total\n",
    "print 'def transform(ls) set'"
   ]
  },
  {
   "cell_type": "code",
   "execution_count": 4,
   "metadata": {
    "collapsed": false,
    "scrolled": true
   },
   "outputs": [
    {
     "name": "stdout",
     "output_type": "stream",
     "text": [
      "def get_money(ls) set\n"
     ]
    }
   ],
   "source": [
    "def get_money(ls):\n",
    "    for i in range(len(ls)):\n",
    "        start = 0\n",
    "        stop = 150\n",
    "        ls[i] = ls[i].replace(u'　',u'').replace(u' ',u'').strip()\n",
    "        if u'主文' in ls[i]:\n",
    "            start = i\n",
    "        if u'事實' in ls[i] or u'理由' in ls[i]:\n",
    "            stop = i\n",
    "            break\n",
    "            \n",
    "    content = u''.join(ls[start:stop]).replace(u',','')\n",
    "#     print content\n",
    "    if u'給付' in content:\n",
    "        dollars = content.find(u'元')\n",
    "        nt = content.find(u'幣')\n",
    "        money = content[nt+1:dollars]\n",
    "#         print money\n",
    "        try:\n",
    "            return int(money)\n",
    "        except:\n",
    "            total = transform(money)\n",
    "            return total\n",
    "    else:\n",
    "        return 0\n",
    "    \n",
    "print 'def get_money(ls) set'"
   ]
  },
  {
   "cell_type": "code",
   "execution_count": 5,
   "metadata": {
    "collapsed": false
   },
   "outputs": [
    {
     "name": "stdout",
     "output_type": "stream",
     "text": [
      "def getJudgeDate(ls) set\n"
     ]
    }
   ],
   "source": [
    "def getJudgeDate(ls):\n",
    "    for i in range(len(ls)):\n",
    "        if u'【裁判日期】' in ls[i]:\n",
    "            JudgeDate = ls[i+1].strip()\n",
    "            break\n",
    "    year,month,date = (JudgeDate[:-4], JudgeDate[-4:-2], JudgeDate[-2:])\n",
    "    return '%s/%s/%s'%(year,month,date)\n",
    "\n",
    "print 'def getJudgeDate(ls) set'"
   ]
  },
  {
   "cell_type": "code",
   "execution_count": 6,
   "metadata": {
    "collapsed": false
   },
   "outputs": [
    {
     "name": "stdout",
     "output_type": "stream",
     "text": [
      "def get_judgement_type(ls) set\n"
     ]
    }
   ],
   "source": [
    "def get_judgement_type(ls):\n",
    "    for line in ls:\n",
    "        if u'地方法院' in line:\n",
    "            if u'簡易庭' in line:\n",
    "                start_pos = line.find(u'簡易庭')\n",
    "                judgement_type = line.split(u'　')[0][start_pos+3:].encode('utf-8')\n",
    "                return judgement_type.decode('utf-8')\n",
    "                break    \n",
    "            start_pos = line.find(u'地方法院')\n",
    "            judgement_type = line.split(u'　')[0][start_pos+4:].encode('utf-8')\n",
    "            return judgement_type.decode('utf-8')\n",
    "            break\n",
    "print 'def get_judgement_type(ls) set'"
   ]
  },
  {
   "cell_type": "code",
   "execution_count": 7,
   "metadata": {
    "collapsed": false
   },
   "outputs": [
    {
     "name": "stdout",
     "output_type": "stream",
     "text": [
      "def getAccidentDate(ls) set\n"
     ]
    }
   ],
   "source": [
    "def getAccidentDate(ls):\n",
    "    try:\n",
    "        for i in range(len(ls)):\n",
    "            if u'事實' in ls[i] or u'理由' in ls[i]:\n",
    "                for add in range(30):\n",
    "                    new_ls = ls[i+add].replace(u' ',u'').replace(u'　',u'')\n",
    "                    if u'民國' in new_ls and re.search(ur\"^.*[年].*[月].*[日]\",new_ls)!= None:\n",
    "                        start = new_ls.find(u'民國')\n",
    "                        end = new_ls.find(u'日')\n",
    "                        year = new_ls[start+2:end].split(u'年')[0]\n",
    "                        month = new_ls[start+3:end].split(u'年')[1].split(u'月')[0]\n",
    "                        date = new_ls[start+3:end].split(u'年')[1].split(u'月')[1]\n",
    "                        return '%s/%s/%s'%(year,month,date)\n",
    "    except:\n",
    "        return None\n",
    "print 'def getAccidentDate(ls) set'"
   ]
  },
  {
   "cell_type": "code",
   "execution_count": 8,
   "metadata": {
    "collapsed": false
   },
   "outputs": [
    {
     "ename": "WindowsError",
     "evalue": "[Error 2] 系統找不到指定的檔案。: 'data.txt'",
     "output_type": "error",
     "traceback": [
      "\u001b[1;31m---------------------------------------------------------------------------\u001b[0m",
      "\u001b[1;31mWindowsError\u001b[0m                              Traceback (most recent call last)",
      "\u001b[1;32m<ipython-input-8-722ab370f156>\u001b[0m in \u001b[0;36m<module>\u001b[1;34m()\u001b[0m\n\u001b[0;32m      1\u001b[0m \u001b[1;32mimport\u001b[0m \u001b[0mos\u001b[0m\u001b[1;33m\u001b[0m\u001b[0m\n\u001b[0;32m      2\u001b[0m \u001b[1;32mimport\u001b[0m \u001b[0mcodecs\u001b[0m\u001b[1;33m\u001b[0m\u001b[0m\n\u001b[1;32m----> 3\u001b[1;33m \u001b[0mos\u001b[0m\u001b[1;33m.\u001b[0m\u001b[0mremove\u001b[0m\u001b[1;33m(\u001b[0m\u001b[1;34m'data.txt'\u001b[0m\u001b[1;33m)\u001b[0m\u001b[1;33m\u001b[0m\u001b[0m\n\u001b[0m\u001b[0;32m      4\u001b[0m \u001b[1;32mwith\u001b[0m \u001b[0mcodecs\u001b[0m\u001b[1;33m.\u001b[0m\u001b[0mopen\u001b[0m\u001b[1;33m(\u001b[0m\u001b[1;34m'data.txt'\u001b[0m\u001b[1;33m,\u001b[0m\u001b[1;34m'a'\u001b[0m\u001b[1;33m,\u001b[0m\u001b[1;34m'utf-8'\u001b[0m\u001b[1;33m)\u001b[0m \u001b[1;32mas\u001b[0m \u001b[0mfd\u001b[0m\u001b[1;33m:\u001b[0m\u001b[1;33m\u001b[0m\u001b[0m\n\u001b[0;32m      5\u001b[0m     \u001b[0mfd\u001b[0m\u001b[1;33m.\u001b[0m\u001b[0mwrite\u001b[0m\u001b[1;33m(\u001b[0m\u001b[1;34m'%s\\t%s\\t%s\\t%s\\t%s\\t%s\\t%s\\t%s\\r\\n'\u001b[0m\u001b[1;33m%\u001b[0m\u001b[1;33m(\u001b[0m\u001b[1;34mu'地點'\u001b[0m\u001b[1;33m,\u001b[0m\u001b[1;34mu'判決名稱'\u001b[0m\u001b[1;33m,\u001b[0m\u001b[1;34mu'判決種類'\u001b[0m\u001b[1;33m,\u001b[0m\u001b[1;34mu'裁判日期'\u001b[0m\u001b[1;33m,\u001b[0m\u001b[1;34mu'判決金額'\u001b[0m\u001b[1;33m,\u001b[0m\u001b[1;34mu'原告勝訴'\u001b[0m\u001b[1;33m,\u001b[0m\u001b[1;34mu'原告律師'\u001b[0m\u001b[1;33m,\u001b[0m\u001b[1;34mu'被告律師'\u001b[0m\u001b[1;33m)\u001b[0m\u001b[1;33m)\u001b[0m\u001b[1;33m\u001b[0m\u001b[0m\n",
      "\u001b[1;31mWindowsError\u001b[0m: [Error 2] 系統找不到指定的檔案。: 'data.txt'"
     ]
    }
   ],
   "source": [
    "import os\n",
    "import codecs\n",
    "os.remove('data.txt')\n",
    "with codecs.open('data.txt','a','utf-8') as fd:\n",
    "    fd.write('%s\\t%s\\t%s\\t%s\\t%s\\t%s\\t%s\\t%s\\r\\n'%(u'地點',u'判決名稱',u'判決種類',u'裁判日期',u'判決金額',u'原告勝訴',u'原告律師',u'被告律師'))\n",
    "print '%s %s %s %s %s %s %s %s'%(u'地點',u'判決名稱',u'判決種類',u'裁判日期',u'判決金額',u'原告勝訴',u'原告律師',u'被告律師')\n",
    "dic = {u'地點':'',\n",
    "       u'判決名稱':'',\n",
    "       u'判決種類':'',\n",
    "       u'裁判日期':'',\n",
    "       u'案發日期':'',\n",
    "       u'判決金額':'',\n",
    "       u'原告勝訴':'',\n",
    "       u'原告律師':'',\n",
    "       u'被告律師':''\n",
    "       }\n",
    "\n",
    "no = 0\n",
    "location = u'project\\\\verdict\\\\'\n",
    "all_files = os.path.abspath(location)\n",
    "for x in os.listdir(all_files)[:50]:\n",
    "    place = x.split(u'_')[0]\n",
    "    with codecs.open(os.path.join(location,x),'r','utf-8') as f:\n",
    "        no+=1\n",
    "        print no,x\n",
    "        ls = []\n",
    "        for line in f:\n",
    "            if line.strip() != 0:\n",
    "                ls.append(line)\n",
    "#     dic[u'地點'] = place\n",
    "#     dic[u'判決名稱'] = x.split('.')[0]\n",
    "#     dic[u'判決種類'] = get_judgement_type(ls)\n",
    "    dic[u'裁判日期'] = getJudgeDate(ls)\n",
    "    dic[u'案發日期'] = getAccidentDate(ls)\n",
    "#     dic[u'判決金額'] = get_money(ls)\n",
    "#     dic[u'原告勝訴'] = Plaintiff_win(ls)\n",
    "    \n",
    "#     lawyer = get_lawyer(ls)\n",
    "#     dic[u'原告律師'] = ','.join(lawyer[0]) if lawyer[0]!=0 else 0\n",
    "#     dic[u'被告律師'] = ','.join(lawyer[1]) if lawyer[1]!=0 else 0\n",
    "    print dic[u'裁判日期'],dic[u'案發日期']\n",
    "    print\n",
    "#     print '%s\\t%s\\t%s\\t%s\\t%s\\t%s\\t%s\\t%s\\r\\n'%(dic[u'地點']\\\n",
    "#                                                     ,dic[u'判決名稱']\\\n",
    "#                                                     ,dic[u'判決種類']\\\n",
    "#                                                     ,dic[u'裁判日期']\\\n",
    "#                                                     ,dic[u'判決金額']\\\n",
    "#                                                     ,dic[u'原告勝訴']\\\n",
    "#                                                     ,dic[u'原告律師']\\\n",
    "#                                                     ,dic[u'被告律師'])\n",
    "#     with codecs.open('data.txt','a','utf-8') as fd:\n",
    "#         fd.write('%s\\t%s\\t%s\\t%s\\t%s\\t%s\\t%s\\t%s\\r\\n'%(dic[u'地點']\\\n",
    "#                                                     ,dic[u'判決名稱']\\\n",
    "#                                                     ,dic[u'判決種類']\\\n",
    "#                                                     ,dic[u'裁判日期']\\\n",
    "#                                                     ,dic[u'判決金額']\\\n",
    "#                                                     ,dic[u'原告勝訴']\\\n",
    "#                                                     ,dic[u'原告律師']\\\n",
    "#                                                     ,dic[u'被告律師']))\n",
    "#         fd.write('---------------------------\\r\\n')\n",
    "\n",
    "print 'done'"
   ]
  },
  {
   "cell_type": "code",
   "execution_count": 75,
   "metadata": {
    "collapsed": false
   },
   "outputs": [
    {
     "name": "stdout",
     "output_type": "stream",
     "text": [
      "True\n"
     ]
    }
   ],
   "source": [
    "import re\n",
    "a = u'一、原告起訴主張：被告於民國103年12月11日10時10分許，駕'\n",
    "print re.search(ur\"^.*[年].*[月].*[日]\",a)!= None"
   ]
  },
  {
   "cell_type": "code",
   "execution_count": 44,
   "metadata": {
    "collapsed": false
   },
   "outputs": [
    {
     "name": "stdout",
     "output_type": "stream",
     "text": [
      "參萬參仟零壹拾陸\n"
     ]
    },
    {
     "data": {
      "text/plain": [
       "33016"
      ]
     },
     "execution_count": 44,
     "metadata": {},
     "output_type": "execute_result"
    }
   ],
   "source": [
    "transform(u'參萬參仟零壹拾陸')\n",
    "#X"
   ]
  },
  {
   "cell_type": "code",
   "execution_count": null,
   "metadata": {
    "collapsed": true
   },
   "outputs": [],
   "source": [
    "location = u'project\\\\臺北\\\\'\n",
    "all_files = os.path.abspath(location)\n",
    "for x in os.listdir(all_files)[:10]:\n",
    "    with codecs.open(os.path.join(location,x),'r','utf-8') as f:\n",
    "        print x\n",
    "        ls = []\n",
    "        for line in f:\n",
    "            if line.strip() != 0:\n",
    "                ls.append(line)\n",
    "    print getJudgeDate(ls)"
   ]
  }
 ],
 "metadata": {
  "kernelspec": {
   "display_name": "Python 2",
   "language": "python",
   "name": "python2"
  },
  "language_info": {
   "codemirror_mode": {
    "name": "ipython",
    "version": 2
   },
   "file_extension": ".py",
   "mimetype": "text/x-python",
   "name": "python",
   "nbconvert_exporter": "python",
   "pygments_lexer": "ipython2",
   "version": "2.7.10"
  }
 },
 "nbformat": 4,
 "nbformat_minor": 0
}
