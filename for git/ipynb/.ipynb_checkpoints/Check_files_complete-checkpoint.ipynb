{
 "cells": [
  {
   "cell_type": "code",
   "execution_count": null,
   "metadata": {
    "collapsed": true
   },
   "outputs": [],
   "source": [
    "# -*- coding: utf-8 -*-\n",
    "'''\n",
    "for check index file\n",
    "and output 3 things\n",
    "    non_repeat={}\n",
    "    repeat={}\n",
    "    non_files={}\n",
    "'''\n",
    "import os\n",
    "#check index file\n",
    "ls = ['台北','士林','新北','宜蘭'\\\n",
    "\t ,'基隆','桃園','新竹','苗栗'\\\n",
    "\t ,'台中','彰化','南投','雲林'\\\n",
    "\t ,'嘉義','台南','高雄','花蓮'\\\n",
    "\t ,'台東','屏東','澎湖','金門'\\\n",
    "\t ,'連江']\n",
    "print 'ok'\n",
    "non_complete = {}"
   ]
  },
  {
   "cell_type": "code",
   "execution_count": 1,
   "metadata": {
    "collapsed": false
   },
   "outputs": [
    {
     "name": "stdout",
     "output_type": "stream",
     "text": [
      "C:\\Users\\BigData\\Desktop\\python\\ipynb\\project\\台北\n"
     ]
    }
   ],
   "source": [
    "import os.path\n",
    "place = str('台北')\n",
    "name = 'check_Web_%s.txt'%place.decode('utf-8') #Web_台北.txt\n",
    "location = 'project\\%s\\\\'%place.decode('utf-8') #project\\台北\\\n",
    "a = os.path.abspath(location)\n",
    "print a"
   ]
  },
  {
   "cell_type": "code",
   "execution_count": null,
   "metadata": {
    "collapsed": true
   },
   "outputs": [],
   "source": [
    "place = str('台北')\n",
    "name = 'check_Web_%s.txt'%place.decode('utf-8') #Web_台北.txt\n",
    "location = 'project\\%s\\\\'%place.decode('utf-8') #project\\台北\\\n",
    "open_index = open('%s%s'%(location,name),'r') #project\\台北\\Web_台北.txt\n",
    "\n",
    "total = 0\n",
    "\n",
    "#每一行去跟下一行比較\n",
    "for line in open_index:\n",
    "    if line=='\\n':\n",
    "        break\n",
    "\ttotal+=1\n",
    "\tsplit = line.split('-')\n",
    "    \n",
    "\n",
    "\telse:\n",
    "\t\tif os.path.isfile('%s%s'%(location,split[1].strip().decode('utf-8'))):\n",
    "\t\t\t#there 's non repeat and the file do exist\n",
    "\t\t\tnon_repeat[total] = line\n",
    "\t\t\tnr_num += 1\n",
    "\t\telse:\n",
    "\t\t\t#there 's non repeat ,but the file do NOT exist\n",
    "\t\t\tnon_files[total] = line\n",
    "\t\t\tnf_num += 1\n",
    "\t\tblank = split[1]\n",
    "\t\t\n",
    "\n",
    "open_index.close()\n",
    "print 'total =',total,'; nr_num + r_num + nf_num =',nr_num+r_num+nf_num\n",
    "print\n",
    "print 'non_repeat =',nr_num,'; repeat =',r_num,'; no_file =',nf_num"
   ]
  },
  {
   "cell_type": "code",
   "execution_count": null,
   "metadata": {
    "collapsed": true
   },
   "outputs": [],
   "source": []
  },
  {
   "cell_type": "code",
   "execution_count": null,
   "metadata": {
    "collapsed": true
   },
   "outputs": [],
   "source": []
  },
  {
   "cell_type": "code",
   "execution_count": null,
   "metadata": {
    "collapsed": true
   },
   "outputs": [],
   "source": [
    "\n",
    "\n",
    "def check(pos):\n",
    "\tplace = str(pos)\n",
    "\tname = 'Web_%s.txt'%place.decode('utf-8') #Web_台北.txt\n",
    "\tlocation = 'project\\%s\\\\'%place.decode('utf-8') #project\\台北\\\n",
    "\topen_index = open('%s%s'%(location,name),'r') #project\\台北\\Web_台北.txt\n",
    "\n",
    "\tnon_repeat = {}\n",
    "\trepeat = {}\n",
    "\tnon_files = {}\n",
    "\n",
    "\ttotal = 0\n",
    "\tnr_num = 0  #non_repeat number\n",
    "\tr_num = 0  #repeat number\n",
    "\tnf_num = 0  #no_file number\n",
    "\tblank = ''\n",
    "\n",
    "\t#每一行去跟下一行比較\n",
    "\tfor line in open_index:\n",
    "\t\ttotal+=1\n",
    "\t\tsplit = line.split('-')\n",
    "\t\t#print split[0],split[1]\n",
    "\t\tif blank==split[1]:\n",
    "\t\t\trepeat[total] = line\n",
    "\t\t\tr_num += 1\n",
    "\t\telse:\n",
    "\t\t\tif os.path.isfile('%s%s'%(location,split[1].strip().decode('utf-8'))):\n",
    "\t\t\t\t#there 's non repeat and the file do exist\n",
    "\t\t\t\tnon_repeat[total] = line\n",
    "\t\t\t\tnr_num += 1\n",
    "\t\t\telse:\n",
    "\t\t\t\t#there 's non repeat ,but the file do NOT exist\n",
    "\t\t\t\tnon_files[total] = line\n",
    "\t\t\t\tnf_num += 1\n",
    "\t\t\tblank = split[1]\n",
    "\t\t\t\n",
    "\t\t\n",
    "\topen_index.close()\n",
    "\tprint 'total =',total,'; nr_num + r_num + nf_num =',nr_num+r_num+nf_num\n",
    "\tprint\n",
    "\tprint 'non_repeat =',nr_num,'; repeat =',r_num,'; no_file =',nf_num\n",
    "\n",
    "\t#sort repeat{}\n",
    "\tls_repeat=[]\n",
    "\tfor i in repeat:\n",
    "\t\tls_repeat.append(i)\n",
    "\tls_repeat.sort()\n",
    "\n",
    "\t#sort non_files{}\n",
    "\tls_non_files=[]\n",
    "\tfor i in non_files:\n",
    "\t\tls_non_files.append(i)\n",
    "\tls_non_files.sort()\n",
    "\n",
    "\n",
    "\t#write into a file ----- check_+name\n",
    "\tfr = open('%scheck_%s'%(location,name),'w')\n",
    "\tfr.write('non_repeat = %d ; repeat = %d ; no_file = %d\\n'%(nr_num,r_num,nf_num))\n",
    "\n",
    "\t#write non_repeat\n",
    "\tfr.write('**non_repeat -%d\\n'%nr_num)\n",
    "\tfor i in non_repeat :\n",
    "\t\tfr.write(non_repeat[i])\n",
    "\tfr.write('\\n------------------------------------------\\n')\n",
    "\n",
    "\t#write repeat\n",
    "\tfr.write('**repeat -%d\\n'%r_num)\n",
    "\tfor i in ls_repeat:\n",
    "\t\tfr.write(repeat[i])\n",
    "\tfr.write('\\n------------------------------------------\\n')\n",
    "\n",
    "\t#write non_files\n",
    "\tfr.write('**non_files -%d\\n'%nf_num)\n",
    "\tfor i in ls_non_files:\n",
    "\t\tfr.write(non_files[i])\n",
    "\n",
    "\tfr.close()\n",
    "\n",
    "\tprint pos,'ok'"
   ]
  },
  {
   "cell_type": "code",
   "execution_count": null,
   "metadata": {
    "collapsed": true
   },
   "outputs": [],
   "source": [
    "for i in ls:\n",
    "    check(i)\n"
   ]
  }
 ],
 "metadata": {
  "kernelspec": {
   "display_name": "Python 2",
   "language": "python",
   "name": "python2"
  },
  "language_info": {
   "codemirror_mode": {
    "name": "ipython",
    "version": 2
   },
   "file_extension": ".py",
   "mimetype": "text/x-python",
   "name": "python",
   "nbconvert_exporter": "python",
   "pygments_lexer": "ipython2",
   "version": "2.7.10"
  }
 },
 "nbformat": 4,
 "nbformat_minor": 0
}
