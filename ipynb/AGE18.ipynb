{
 "cells": [
  {
   "cell_type": "code",
   "execution_count": 7,
   "metadata": {
    "collapsed": false
   },
   "outputs": [
    {
     "ename": "SyntaxError",
     "evalue": "invalid syntax (<ipython-input-7-e95d827f308a>, line 3)",
     "output_type": "error",
     "traceback": [
      "\u001b[1;36m  File \u001b[1;32m\"<ipython-input-7-e95d827f308a>\"\u001b[1;36m, line \u001b[1;32m3\u001b[0m\n\u001b[1;33m    cookie = {'Cookie': '__cfduid=df85dfc64512b9a70251bf798f829078b1432549825; HstCfa981344=1432549818992; HstCmu981344=1432549818992; c_ref_981344=https%3A%2F%2Fwww.google.com.tw%2F; PHPSESSID=fcn5af563qeud248491qga04i7; __utmt=1; __utma=227479256.1545898229.1432549819.1433768006.1433931458.4; __utmb=227479256.2.10.1433931458; __utmc=227479256; __utmz=227479256.1433573597.2.2.utmcsr=google|utmccn=(organic)|utmcmd=organic|utmctr=(not%20provided); HstCla981344=1433931466518; HstPn981344=2; HstPt981344=8; HstCnv981344=4; HstCns981344=4; __.popunderCap=2')\u001b[0m\n\u001b[1;37m                                                                                                                                                                                                                                                                                                                                                                                                                                                                                                                                                                              ^\u001b[0m\n\u001b[1;31mSyntaxError\u001b[0m\u001b[1;31m:\u001b[0m invalid syntax\n"
     ]
    }
   ],
   "source": [
    "import requests\n",
    "from bs4 import BeautifulSoup\n",
    "cookie = {'Cookie': '__cfduid=df85dfc64512b9a70251bf798f829078b1432549825; HstCfa981344=1432549818992; HstCmu981344=1432549818992; c_ref_981344=https%3A%2F%2Fwww.google.com.tw%2F; PHPSESSID=fcn5af563qeud248491qga04i7; __utmt=1; __utma=227479256.1545898229.1432549819.1433768006.1433931458.4; __utmb=227479256.2.10.1433931458; __utmc=227479256; __utmz=227479256.1433573597.2.2.utmcsr=google|utmccn=(organic)|utmcmd=organic|utmctr=(not%20provided); HstCla981344=1433931466518; HstPn981344=2; HstPt981344=8; HstCnv981344=4; HstCns981344=4; __.popunderCap=2')\n",
    "res = requests.get('http://www.thisav.com/video/145253/%E4%BF%BA%E3%81%AE%E3%82%AA%E3%83%A2%E3%83%81%E3%83%A3-%E3%81%A4%E3%82%8B%E3%81%BA%E3%81%9F%E3%83%81%E3%83%93%E3%81%A3%E5%AD%90%E5%A6%B9-%E3%81%82%E3%81%84%E3%81%BF.html',header = cookie)\n",
    "soup = BeautifulSoup(res.text)\n",
    "print soup"
   ]
  },
  {
   "cell_type": "code",
   "execution_count": 29,
   "metadata": {
    "collapsed": false
   },
   "outputs": [
    {
     "ename": "TypeError",
     "evalue": "'NoneType' object is not iterable",
     "output_type": "error",
     "traceback": [
      "\u001b[1;31m---------------------------------------------------------------------------\u001b[0m",
      "\u001b[1;31mTypeError\u001b[0m                                 Traceback (most recent call last)",
      "\u001b[1;32m<ipython-input-29-5ad101ce88bd>\u001b[0m in \u001b[0;36m<module>\u001b[1;34m()\u001b[0m\n\u001b[0;32m      5\u001b[0m \u001b[0mget_response\u001b[0m \u001b[1;33m=\u001b[0m \u001b[0mrequests\u001b[0m\u001b[1;33m.\u001b[0m\u001b[0mget\u001b[0m\u001b[1;33m(\u001b[0m\u001b[1;34m'http://www.thisav.com/video/145253/%E4%BF%BA%E3%81%AE%E3%82%AA%E3%83%A2%E3%83%81%E3%83%A3-%E3%81%A4%E3%82%8B%E3%81%BA%E3%81%9F%E3%83%81%E3%83%93%E3%81%A3%E5%AD%90%E5%A6%B9-%E3%81%82%E3%81%84%E3%81%BF.html'\u001b[0m\u001b[1;33m,\u001b[0m \u001b[0mheaders\u001b[0m \u001b[1;33m=\u001b[0m \u001b[0mcookie\u001b[0m\u001b[1;33m)\u001b[0m\u001b[1;33m\u001b[0m\u001b[0m\n\u001b[0;32m      6\u001b[0m \u001b[0msoup\u001b[0m \u001b[1;33m=\u001b[0m \u001b[0mBeautifulSoup\u001b[0m\u001b[1;33m(\u001b[0m\u001b[0mget_response\u001b[0m\u001b[1;33m.\u001b[0m\u001b[0mtext\u001b[0m\u001b[1;33m)\u001b[0m\u001b[1;33m\u001b[0m\u001b[0m\n\u001b[1;32m----> 7\u001b[1;33m \u001b[1;32mfor\u001b[0m \u001b[0mscript\u001b[0m \u001b[1;32min\u001b[0m \u001b[0msoup\u001b[0m\u001b[1;33m.\u001b[0m\u001b[0mfind\u001b[0m\u001b[1;33m(\u001b[0m\u001b[1;34m'so'\u001b[0m\u001b[1;33m)\u001b[0m\u001b[1;33m:\u001b[0m\u001b[1;33m\u001b[0m\u001b[0m\n\u001b[0m\u001b[0;32m      8\u001b[0m     \u001b[1;32mprint\u001b[0m \u001b[0mscript\u001b[0m\u001b[1;33m\u001b[0m\u001b[0m\n",
      "\u001b[1;31mTypeError\u001b[0m: 'NoneType' object is not iterable"
     ]
    }
   ],
   "source": [
    "import requests\n",
    "from bs4 import BeautifulSoup\n",
    "\n",
    "cookie = {'Cookie':'__cfduid=df85dfc64512b9a70251bf798f829078b1432549825; HstCfa981344=1432549818992; HstCmu981344=1432549818992; c_ref_981344=https%3A%2F%2Fwww.google.com.tw%2F; PHPSESSID=fcn5af563qeud248491qga04i7; __utmt=1; __utma=227479256.1545898229.1432549819.1433768006.1433931458.4; __utmb=227479256.2.10.1433931458; __utmc=227479256; __utmz=227479256.1433573597.2.2.utmcsr=google|utmccn=(organic)|utmcmd=organic|utmctr=(not%20provided); HstCla981344=1433931466518; HstPn981344=2; HstPt981344=8; HstCnv981344=4; HstCns981344=4; __.popunderCap=2'}\n",
    "get_response = requests.get('http://www.thisav.com/video/145253/%E4%BF%BA%E3%81%AE%E3%82%AA%E3%83%A2%E3%83%81%E3%83%A3-%E3%81%A4%E3%82%8B%E3%81%BA%E3%81%9F%E3%83%81%E3%83%93%E3%81%A3%E5%AD%90%E5%A6%B9-%E3%81%82%E3%81%84%E3%81%BF.html', headers = cookie)\n",
    "soup = BeautifulSoup(get_response.text)\n",
    "\n"
   ]
  },
  {
   "cell_type": "code",
   "execution_count": 49,
   "metadata": {
    "collapsed": false
   },
   "outputs": [
    {
     "name": "stdout",
     "output_type": "stream",
     "text": [
      "\r\n",
      "          var so = new SWFObject('http://ad.thisav.com/player/jw.swf','mpl','650','420','9');\r\n",
      "          so.addParam('allowfullscreen','true');\r\n",
      "          so.addParam('wmode','transparent');\r\n",
      "so.addParam('allowscriptaccess','always');\r\n",
      "so.addVariable('config','http://ad.thisav.com/player/config.xml');\r\n",
      "so.addVariable('file','http://vs08.thisav.com/dl/5gv33GZP5Z4h0OPtWy-5_A,1433936226/145253.flv');\r\n",
      "so.addVariable(\"menu\", \"false\");\r\n",
      "so.write('mediaspace');\r\n",
      "so.addVariable('id', 'mplay');\r\n",
      "        \n"
     ]
    }
   ],
   "source": [
    "b=0\n",
    "for a in soup.select('script')[21]:\n",
    "    \n",
    "    print a\n",
    "    \n"
   ]
  }
 ],
 "metadata": {
  "kernelspec": {
   "display_name": "Python 2",
   "language": "python",
   "name": "python2"
  },
  "language_info": {
   "codemirror_mode": {
    "name": "ipython",
    "version": 2
   },
   "file_extension": ".py",
   "mimetype": "text/x-python",
   "name": "python",
   "nbconvert_exporter": "python",
   "pygments_lexer": "ipython2",
   "version": "2.7.10"
  }
 },
 "nbformat": 4,
 "nbformat_minor": 0
}
