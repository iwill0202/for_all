{
 "cells": [
  {
   "cell_type": "code",
   "execution_count": 35,
   "metadata": {
    "collapsed": false
   },
   "outputs": [
    {
     "name": "stdout",
     "output_type": "stream",
     "text": [
      "ok\n",
      "10006\n",
      "Ngram 9.txt is done\n"
     ]
    }
   ],
   "source": [
    "import codecs\n",
    "dir = {}\n",
    "total = 0\n",
    "n=9\n",
    "with codecs.open('Ngram %d.0.txt'%n,'r','utf-8') as f:\n",
    "    total += int(f.readline().split('-')[1])\n",
    "    for line in f:\n",
    "        seperate = line.split(u'-')\n",
    "#         print seperate[1],seperate[2]\n",
    "        dir[seperate[1]] = int(seperate[2])\n",
    "\n",
    "with codecs.open('Ngram %d.1.txt'%n,'r','utf-8') as f:\n",
    "    total += int(f.readline().split('-')[1])\n",
    "    for line in f:\n",
    "        seperate = line.split(u'-')\n",
    "        if seperate[1] in dir:\n",
    "            dir[seperate[1]] += int(seperate[2])\n",
    "print 'ok'\n",
    "print total\n",
    "\n",
    "num = 0\n",
    "name ='Ngram %d.txt'%n\n",
    "with codecs.open(name,'w','utf-8') as f:\n",
    "    f.write('total files - %d\\r\\n'%total)\n",
    "    for x in dir:\n",
    "        if dir[x]>total*0.7 and dir[x]<total*1.3:\n",
    "            num += 1\n",
    "            f.write('(%d) - %s - %s\\r\\n'%(num,x,dir[x]))\n",
    "print name,'is done'"
   ]
  },
  {
   "cell_type": "code",
   "execution_count": null,
   "metadata": {
    "collapsed": false
   },
   "outputs": [],
   "source": []
  }
 ],
 "metadata": {
  "kernelspec": {
   "display_name": "Python 2",
   "language": "python",
   "name": "python2"
  },
  "language_info": {
   "codemirror_mode": {
    "name": "ipython",
    "version": 2
   },
   "file_extension": ".py",
   "mimetype": "text/x-python",
   "name": "python",
   "nbconvert_exporter": "python",
   "pygments_lexer": "ipython2",
   "version": "2.7.10"
  }
 },
 "nbformat": 4,
 "nbformat_minor": 0
}
