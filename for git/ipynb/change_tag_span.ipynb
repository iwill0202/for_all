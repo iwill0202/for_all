{
 "cells": [
  {
   "cell_type": "code",
   "execution_count": 42,
   "metadata": {
    "collapsed": false
   },
   "outputs": [
    {
     "name": "stdout",
     "output_type": "stream",
     "text": [
      "<type 'unicode'>\n",
      "<type 'unicode'>\n",
      "<type 'unicode'>\n",
      "<type 'unicode'>\n",
      "<type 'unicode'>\n",
      "<type 'unicode'>\n",
      "<type 'unicode'>\n",
      "<type 'unicode'>\n",
      "<type 'unicode'>\n",
      "<type 'unicode'>\n",
      "<type 'unicode'>\n",
      "<type 'unicode'>\n",
      "<type 'unicode'>\n",
      "<type 'unicode'>\n",
      "<type 'unicode'>\n",
      "<type 'unicode'>\n",
      "<type 'unicode'>\n",
      "<type 'unicode'>\n",
      "<type 'unicode'>\n",
      "<type 'unicode'>\n",
      "<type 'unicode'>\n"
     ]
    }
   ],
   "source": [
    "# -*- coding:utf-8 -*-\n",
    "import codecs\n",
    "import os\n",
    "\n",
    "ls = ['臺北','士林','新北','宜蘭'\\\n",
    "\t ,'基隆','桃園','新竹','苗栗'\\\n",
    "\t ,'臺中','彰化','南投','雲林'\\\n",
    "\t ,'嘉義','臺南','高雄','花蓮'\\\n",
    "\t ,'臺東','屏東','澎湖','金門'\\\n",
    "\t ,'連江']\n",
    "\n",
    "for i in ls:\n",
    "    location = u'project\\%s\\\\'%i.decode('utf-8')\n",
    "    all_files = os.path.abspath(location)\n",
    "    for x in os.listdir(all_files)[6:7]:\n",
    "        if x[0]!=u'c' and x[0]!=u'W':\n",
    "            print x\n",
    "            with codecs.open('%s%s'%(location,x),'r','utf-8') as f:\n",
    "                l = []\n",
    "                for line in f:\n",
    "                    content = line.replace(u'<span  style=\"color:#e8e8e8\">.</span>','')\n",
    "                    l.append(content)\n",
    "            with codecs.open('%s%s'%(location,x),'w','utf-8') as f:\n",
    "                for y in l:\n",
    "                    f.write(y)\n",
    "            "
   ]
  }
 ],
 "metadata": {
  "kernelspec": {
   "display_name": "Python 2",
   "language": "python",
   "name": "python2"
  },
  "language_info": {
   "codemirror_mode": {
    "name": "ipython",
    "version": 2
   },
   "file_extension": ".py",
   "mimetype": "text/x-python",
   "name": "python",
   "nbconvert_exporter": "python",
   "pygments_lexer": "ipython2",
   "version": "2.7.10"
  }
 },
 "nbformat": 4,
 "nbformat_minor": 0
}
