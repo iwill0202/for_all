{
 "cells": [
  {
   "cell_type": "code",
   "execution_count": 26,
   "metadata": {
    "collapsed": false
   },
   "outputs": [
    {
     "name": "stdout",
     "output_type": "stream",
     "text": [
      "ok\n"
     ]
    }
   ],
   "source": [
    "#First Step @ second layer\n",
    "import string\n",
    "import requests\n",
    "from bs4 import BeautifulSoup\n",
    "\n",
    "#------------------------------\n",
    "start_from_no = 42\n",
    "times = start_from_no/20\n",
    "twenty_list = start_from_no%20\n",
    "\n",
    "origin_cookie='ASP.NET_SessionId=xq3yfxucb122zjy2in5qunr0; y=p=ga6YQzTxtX4nbb%2fpDcqvILg2sSYKfSTHsTT6K2g%2bn2cpL5jR%2fdNhSIdktQsnj7Y8; lawbank=56910e17f7c747c8bff860ae662d701a-33; _ga=GA1.3.1224627297.1434421447; _gat=1; JubFrm-pagebox=%5EcourtFullName%3DPCDV%60%5Ekw%3D%E8%BB%8A%5Ejcatagory%3D2%5Eissimple%3D-1%5Ejt%3D%E6%90%8D%E5%AE%B3%E8%B3%A0%E5%84%9F; x=j=yUm4L9fKJqyv+bvUjQeEuHlX2Uk1M6ZY+srNvIy39vuzWoh6eGOtto71u8OudzDz0CrH2GdHmjzEw0HcygOQAKKol52OCpWqcN/hWtAXH5wtK7YHkY+mqVnBI8nlomnlQ5AZovZs+0FOApcFFCI81Twziync+0q9lbAbc/AAMfDVKeUWCo75SIj6ZL4pjW1D2c1/x2pbv8XvUxO8jfmyFdlmLU3cFLkmTCT92LgODLdHWBY9RNmpc0czOtRWt0ci3B8iN3oB4mKKPeVozMR8R1Ds7Ez/RKcatvJjV8NRR8bFqnGq1ml2/+D+lIQkYCiP'\n",
    "import string\n",
    "if origin_cookie.find('y=p=') != -1:\n",
    "    pos_yp = origin_cookie.split('y=p=')\n",
    "    origin_cookie = pos_yp[0]+string.join(pos_yp[1].split(';')[1:],';')\n",
    "#------------------------------\n",
    "\n",
    "#cookie = 'ASP.NET_SessionId=xq3yfxucb122zjy2in5qunr0; lawbank=e83dafaa80234b35af3f1337bf1f5f83-33; y=p=ga6YQzTxtX4nbb%2fpDcqvILg2sSYKfSTHsTT6K2g%2bn2cpL5jR%2fdNhSIdktQsnj7Y8; _ga=GA1.3.1224627297.1434421447; _gat=1; JubFrm-pagebox=%5EcourtFullName%3DPCDV%60%5Ekw%3D%E8%BB%8A%5Ejcatagory%3D2%5Eissimple%3D-1%5Ejt%3D%E6%90%8D%E5%AE%B3%E8%B3%A0%E5%84%9F; x=j=yUm4L9fKJqyv+bvUjQeEuHlX2Uk1M6ZY+srNvIy39vuzWoh6eGOtto71u8OudzDz0CrH2GdHmjzEw0HcygOQAKKol52OCpWqcN/hWtAXH5wtK7YHkY+mqVnBI8nlomnlQ5AZovZs+0FOApcFFCI81Twziync+0q9lbAbc/AAMfDVKeUWCo75SIj6ZL4pjW1D2c1/x2pbv8XvUxO8jfmyFdlmLU3cFLkmTCT92LgODLdHWBY9RNmpc0czOtRWt0ci3B8iN3oB4mKKPeVozMR8R1Ds7Ez/RKcatvJjV8NRR8ZGNMCvkJpjDvtCp/nqyhea'\n",
    "#catch y=p= whether exist\n",
    "\n",
    "data = {'__EVENTTARGET':'lnkbtnOhmy1', \\\n",
    "        '__EVENTARGUMENT':'', \\\n",
    "        '__VIEWSTATE':'', \\\n",
    "        '__VIEWSTATEGENERATOR':'', \\\n",
    "        '__EVENTVALIDATION':'', \\\n",
    "        'FDLink':''\n",
    "       }\n",
    "\n",
    "uml = \"http://fyjud.lawbank.com.tw/\"\n",
    "headers = {'Cookie' : origin_cookie}\n",
    "res = requests.get('http://fyjud.lawbank.com.tw/listcontent5.aspx',\\\n",
    "                   headers = headers)\n",
    "soup = BeautifulSoup(res.text)\n",
    "print 'ok'"
   ]
  },
  {
   "cell_type": "code",
   "execution_count": null,
   "metadata": {
    "collapsed": false
   },
   "outputs": [],
   "source": []
  },
  {
   "cell_type": "code",
   "execution_count": 30,
   "metadata": {
    "collapsed": false
   },
   "outputs": [
    {
     "name": "stdout",
     "output_type": "stream",
     "text": [
      "now 共7724筆第3/387頁\n"
     ]
    }
   ],
   "source": [
    "#catch total_pages and this_page\n",
    "this_page = soup.select('.page > tr > td')[0].text.replace(' ','')\n",
    "pos_start = this_page.find(u'共')\n",
    "pos_end = this_page.find(u'筆')\n",
    "total_pages = int(this_page[pos_start+1:pos_end])\n",
    "#print total_pages\n",
    "print 'now',this_page"
   ]
  },
  {
   "cell_type": "code",
   "execution_count": 28,
   "metadata": {
    "collapsed": false
   },
   "outputs": [
    {
     "name": "stdout",
     "output_type": "stream",
     "text": [
      "共7724筆第3/387頁\n"
     ]
    }
   ],
   "source": [
    "for i in range(0, times):\n",
    "        data['__VIEWSTATE'] = soup.select('#__VIEWSTATE')[0]['value']\n",
    "        data['__EVENTVALIDATION'] = soup.select('#__EVENTVALIDATION')[0]['value']\n",
    "        data['__VIEWSTATEGENERATOR'] = soup.select('#__VIEWSTATEGENERATOR')[0]['value']\n",
    "\n",
    "        res_post = requests.post('http://fyjud.lawbank.com.tw/listcontent5.aspx',\\\n",
    "                           headers = headers,\\\n",
    "                           data = data)\n",
    "        soup = BeautifulSoup(res_post.text)\n",
    "print soup.select('.page > tr > td')[0].text.replace(' ','')"
   ]
  },
  {
   "cell_type": "code",
   "execution_count": 32,
   "metadata": {
    "collapsed": false
   },
   "outputs": [
    {
     "name": "stdout",
     "output_type": "stream",
     "text": [
      "http://fyjud.lawbank.com.tw/content3.aspx?p=HLBDxjN85b%2fir7N%2bRv44Tkh4YUBpxbj7ABOyvpRvRyI%3d\n",
      "ASP.NET_SessionId=xq3yfxucb122zjy2in5qunr0;  lawbank=56910e17f7c747c8bff860ae662d701a-33; _ga=GA1.3.1224627297.1434421447; _gat=1; JubFrm-pagebox=%5EcourtFullName%3DPCDV%60%5Ekw%3D%E8%BB%8A%5Ejcatagory%3D2%5Eissimple%3D-1%5Ejt%3D%E6%90%8D%E5%AE%B3%E8%B3%A0%E5%84%9F; x=j=yUm4L9fKJqyv+bvUjQeEuHlX2Uk1M6ZY+srNvIy39vuzWoh6eGOtto71u8OudzDz0CrH2GdHmjzEw0HcygOQAKKol52OCpWqcN/hWtAXH5wtK7YHkY+mqVnBI8nlomnlQ5AZovZs+0FOApcFFCI81Twziync+0q9lbAbc/AAMfDVKeUWCo75SIj6ZL4pjW1D2c1/x2pbv8XvUxO8jfmyFdlmLU3cFLkmTCT92LgODLdHWBY9RNmpc0czOtRWt0ci3B8iN3oB4mKKPeVozMR8R1Ds7Ez/RKcatvJjV8NRR8bFqnGq1ml2/+D+lIQkYCiP; y=p=ij5jYMMp9YfEeA6u%2f9BFgWeYv7gMBn8bw8XmBGd%2ftsxvMZ1OKhuyPpH0ZrAPe3yS\n"
     ]
    }
   ],
   "source": [
    "target_element = soup.select('.Table-List > tbody > tr')[twenty_list].select('td > a')[0]\n",
    "link = uml+target_element['href']\n",
    "print 'link',link\n",
    "print\n",
    "cookie_yp = '; y=p=%s'%(target_element['onclick'].split('\\'')[1])\n",
    "cookie = origin_cookie+cookie_yp\n",
    "print 'cookie',cookie"
   ]
  },
  {
   "cell_type": "code",
   "execution_count": null,
   "metadata": {
    "collapsed": false
   },
   "outputs": [],
   "source": []
  }
 ],
 "metadata": {
  "kernelspec": {
   "display_name": "Python 2",
   "language": "python",
   "name": "python2"
  },
  "language_info": {
   "codemirror_mode": {
    "name": "ipython",
    "version": 2
   },
   "file_extension": ".py",
   "mimetype": "text/x-python",
   "name": "python",
   "nbconvert_exporter": "python",
   "pygments_lexer": "ipython2",
   "version": "2.7.10"
  }
 },
 "nbformat": 4,
 "nbformat_minor": 0
}
